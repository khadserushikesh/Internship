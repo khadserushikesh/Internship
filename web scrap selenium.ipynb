{
 "cells": [
  {
   "cell_type": "markdown",
   "id": "578731c1",
   "metadata": {},
   "source": [
    "# Q1: Write a python program to scrape data for “Data Analyst” Job position in “Bangalore” location. You \n",
    "have to scrape the job-title, job-location, company_name, experience_required. You have to scrape first 10 \n",
    "jobs data."
   ]
  },
  {
   "cell_type": "code",
   "execution_count": 14,
   "id": "fe51f510",
   "metadata": {
    "scrolled": true
   },
   "outputs": [
    {
     "name": "stdout",
     "output_type": "stream",
     "text": [
      "Requirement already satisfied: selenium in c:\\users\\admin\\anaconda3\\lib\\site-packages (4.10.0)\n",
      "Requirement already satisfied: certifi>=2021.10.8 in c:\\users\\admin\\anaconda3\\lib\\site-packages (from selenium) (2022.9.14)\n",
      "Requirement already satisfied: trio-websocket~=0.9 in c:\\users\\admin\\anaconda3\\lib\\site-packages (from selenium) (0.10.3)\n",
      "Requirement already satisfied: trio~=0.17 in c:\\users\\admin\\anaconda3\\lib\\site-packages (from selenium) (0.22.2)\n",
      "Requirement already satisfied: urllib3[socks]<3,>=1.26 in c:\\users\\admin\\anaconda3\\lib\\site-packages (from selenium) (1.26.11)\n",
      "Requirement already satisfied: sniffio in c:\\users\\admin\\anaconda3\\lib\\site-packages (from trio~=0.17->selenium) (1.2.0)\n",
      "Requirement already satisfied: idna in c:\\users\\admin\\anaconda3\\lib\\site-packages (from trio~=0.17->selenium) (3.3)\n",
      "Requirement already satisfied: sortedcontainers in c:\\users\\admin\\anaconda3\\lib\\site-packages (from trio~=0.17->selenium) (2.4.0)\n",
      "Requirement already satisfied: outcome in c:\\users\\admin\\anaconda3\\lib\\site-packages (from trio~=0.17->selenium) (1.2.0)\n",
      "Requirement already satisfied: attrs>=20.1.0 in c:\\users\\admin\\anaconda3\\lib\\site-packages (from trio~=0.17->selenium) (21.4.0)\n",
      "Requirement already satisfied: cffi>=1.14 in c:\\users\\admin\\anaconda3\\lib\\site-packages (from trio~=0.17->selenium) (1.15.1)\n",
      "Requirement already satisfied: exceptiongroup>=1.0.0rc9 in c:\\users\\admin\\anaconda3\\lib\\site-packages (from trio~=0.17->selenium) (1.1.2)\n",
      "Requirement already satisfied: wsproto>=0.14 in c:\\users\\admin\\anaconda3\\lib\\site-packages (from trio-websocket~=0.9->selenium) (1.2.0)\n",
      "Requirement already satisfied: PySocks!=1.5.7,<2.0,>=1.5.6 in c:\\users\\admin\\anaconda3\\lib\\site-packages (from urllib3[socks]<3,>=1.26->selenium) (1.7.1)\n",
      "Requirement already satisfied: pycparser in c:\\users\\admin\\anaconda3\\lib\\site-packages (from cffi>=1.14->trio~=0.17->selenium) (2.21)\n",
      "Requirement already satisfied: h11<1,>=0.9.0 in c:\\users\\admin\\anaconda3\\lib\\site-packages (from wsproto>=0.14->trio-websocket~=0.9->selenium) (0.14.0)\n"
     ]
    }
   ],
   "source": [
    "!pip install selenium\n",
    "\n",
    "# Let's import all required libraries\n",
    "\n",
    "import selenium                                  #library that is used to work with selenium\n",
    "\n",
    "from selenium import webdriver                   #importing webdriver module from selenium to open automated chrome window\n",
    "\n",
    "import pandas as pd                              #to create DataFrame\n",
    "\n",
    "from selenium.webdriver.common.by import By      #importing inbuilt class By \n",
    "\n",
    "import warnings                                  #to ignore any sort of warning\n",
    "\n",
    "warnings.filterwarnings(\"ignore\")\n",
    "\n",
    "import time                                      #use to stop search engine for few seconds\n",
    "\n",
    "\n",
    "\n",
    "driver = webdriver.Chrome()\n",
    "\n",
    "driver.get(\"https://www.naukri.com/\")"
   ]
  },
  {
   "cell_type": "code",
   "execution_count": 15,
   "id": "2ddcfd99",
   "metadata": {},
   "outputs": [],
   "source": [
    "driver.get(\"https://www.naukri.com/\")\n"
   ]
  },
  {
   "cell_type": "code",
   "execution_count": 16,
   "id": "2aaa6ebd",
   "metadata": {},
   "outputs": [],
   "source": [
    "design = driver.find_element(By.CLASS_NAME,\"suggestor-input\")\n",
    "design.send_keys(\"Data Analyst\")"
   ]
  },
  {
   "cell_type": "code",
   "execution_count": 17,
   "id": "e73f40d0",
   "metadata": {},
   "outputs": [],
   "source": [
    "loc = driver.find_element(By.XPATH,\"/html/body/div[1]/div[6]/div/div/div[5]/div/div/div/div[1]/div/input\")\n",
    "loc.send_keys(\"Bangalore\")"
   ]
  },
  {
   "cell_type": "code",
   "execution_count": 18,
   "id": "5807d376",
   "metadata": {},
   "outputs": [],
   "source": [
    "search = driver.find_element(By.CLASS_NAME,\"qsbSubmit\")\n",
    "search.click()"
   ]
  },
  {
   "cell_type": "code",
   "execution_count": 19,
   "id": "e34e9725",
   "metadata": {},
   "outputs": [],
   "source": [
    "job_titles = []\n",
    "job_locations = []\n",
    "company_names = []\n",
    "experience_requireds = []"
   ]
  },
  {
   "cell_type": "code",
   "execution_count": 20,
   "id": "fdb644d8",
   "metadata": {},
   "outputs": [],
   "source": [
    "title_tag =driver.find_elements(By.XPATH,'//a[@class=\"title ellipsis\"]')\n",
    "for i in title_tag[0:10]:\n",
    "    title=i.text\n",
    "    job_titles.append(title)\n",
    "    \n",
    "    \n",
    "location_tag = driver.find_elements(By.XPATH,'//span[@class=\"ellipsis fleft locWdth\"]')\n",
    "for i in location_tag[0:10]:\n",
    "    location=i.text\n",
    "    job_locations.append(location)\n",
    "    \n",
    "    \n",
    "company_tag = driver.find_elements(By.XPATH,'//a[@class=\"subTitle ellipsis fleft\"]')\n",
    "for i in company_tag[0:10]:\n",
    "    company=i.text\n",
    "    company_names.append(company)\n",
    "    \n",
    "experience_tag = driver.find_elements(By.XPATH,'//span[@class=\"ellipsis fleft expwdth\"]')\n",
    "for i in experience_tag[0:10]:\n",
    "    experience=i.text\n",
    "    experience_requireds.append(experience)\n"
   ]
  },
  {
   "cell_type": "code",
   "execution_count": 21,
   "id": "6d6153ba",
   "metadata": {},
   "outputs": [
    {
     "name": "stdout",
     "output_type": "stream",
     "text": [
      "10 10 10 10\n"
     ]
    }
   ],
   "source": [
    "print(len(job_titles),len(job_locations),len(company_names),len(experience_requireds))"
   ]
  },
  {
   "cell_type": "code",
   "execution_count": 22,
   "id": "e783d05b",
   "metadata": {},
   "outputs": [
    {
     "data": {
      "text/html": [
       "<div>\n",
       "<style scoped>\n",
       "    .dataframe tbody tr th:only-of-type {\n",
       "        vertical-align: middle;\n",
       "    }\n",
       "\n",
       "    .dataframe tbody tr th {\n",
       "        vertical-align: top;\n",
       "    }\n",
       "\n",
       "    .dataframe thead th {\n",
       "        text-align: right;\n",
       "    }\n",
       "</style>\n",
       "<table border=\"1\" class=\"dataframe\">\n",
       "  <thead>\n",
       "    <tr style=\"text-align: right;\">\n",
       "      <th></th>\n",
       "      <th>Title</th>\n",
       "      <th>Location</th>\n",
       "      <th>Company_Name</th>\n",
       "      <th>Experience</th>\n",
       "    </tr>\n",
       "  </thead>\n",
       "  <tbody>\n",
       "    <tr>\n",
       "      <th>0</th>\n",
       "      <td>Data Analyst</td>\n",
       "      <td>Bangalore/Bengaluru</td>\n",
       "      <td>Eastvantage</td>\n",
       "      <td>4-6 Yrs</td>\n",
       "    </tr>\n",
       "    <tr>\n",
       "      <th>1</th>\n",
       "      <td>Data Analyst</td>\n",
       "      <td>Bangalore/ Bengaluru, Karnataka, Gurgaon/ Guru...</td>\n",
       "      <td>Delhivery</td>\n",
       "      <td>1-3 Yrs</td>\n",
       "    </tr>\n",
       "    <tr>\n",
       "      <th>2</th>\n",
       "      <td>Data Analyst</td>\n",
       "      <td>Bangalore/Bengaluru</td>\n",
       "      <td>Everest Vacuum</td>\n",
       "      <td>2-5 Yrs</td>\n",
       "    </tr>\n",
       "    <tr>\n",
       "      <th>3</th>\n",
       "      <td>Data Analyst</td>\n",
       "      <td>Bangalore/Bengaluru, Kolkata, Mumbai, New Delh...</td>\n",
       "      <td>Boomi Software</td>\n",
       "      <td>1-5 Yrs</td>\n",
       "    </tr>\n",
       "    <tr>\n",
       "      <th>4</th>\n",
       "      <td>Data Analyst</td>\n",
       "      <td>Bangalore/Bengaluru, Hyderabad/Secunderabad, Pune</td>\n",
       "      <td>Synechron</td>\n",
       "      <td>5-8 Yrs</td>\n",
       "    </tr>\n",
       "    <tr>\n",
       "      <th>5</th>\n",
       "      <td>Data Analyst</td>\n",
       "      <td>Bangalore/Bengaluru, Hyderabad/Secunderabad, Pune</td>\n",
       "      <td>Synchron Infotech</td>\n",
       "      <td>5-8 Yrs</td>\n",
       "    </tr>\n",
       "    <tr>\n",
       "      <th>6</th>\n",
       "      <td>Data Analyst I</td>\n",
       "      <td>Bangalore/Bengaluru</td>\n",
       "      <td>Cerner</td>\n",
       "      <td>5-10 Yrs</td>\n",
       "    </tr>\n",
       "    <tr>\n",
       "      <th>7</th>\n",
       "      <td>Data Analyst</td>\n",
       "      <td>Bangalore/Bengaluru</td>\n",
       "      <td>Persolkelly India</td>\n",
       "      <td>0-2 Yrs</td>\n",
       "    </tr>\n",
       "    <tr>\n",
       "      <th>8</th>\n",
       "      <td>Data Analyst</td>\n",
       "      <td>Bangalore/Bengaluru, Kolkata, Mumbai, New Delh...</td>\n",
       "      <td>Truthfools</td>\n",
       "      <td>3-8 Yrs</td>\n",
       "    </tr>\n",
       "    <tr>\n",
       "      <th>9</th>\n",
       "      <td>Data Analyst | HyVee</td>\n",
       "      <td>Bangalore/Bengaluru</td>\n",
       "      <td>Talent500</td>\n",
       "      <td>3-5 Yrs</td>\n",
       "    </tr>\n",
       "  </tbody>\n",
       "</table>\n",
       "</div>"
      ],
      "text/plain": [
       "                  Title                                           Location  \\\n",
       "0          Data Analyst                                Bangalore/Bengaluru   \n",
       "1          Data Analyst  Bangalore/ Bengaluru, Karnataka, Gurgaon/ Guru...   \n",
       "2          Data Analyst                                Bangalore/Bengaluru   \n",
       "3          Data Analyst  Bangalore/Bengaluru, Kolkata, Mumbai, New Delh...   \n",
       "4          Data Analyst  Bangalore/Bengaluru, Hyderabad/Secunderabad, Pune   \n",
       "5          Data Analyst  Bangalore/Bengaluru, Hyderabad/Secunderabad, Pune   \n",
       "6        Data Analyst I                                Bangalore/Bengaluru   \n",
       "7          Data Analyst                                Bangalore/Bengaluru   \n",
       "8          Data Analyst  Bangalore/Bengaluru, Kolkata, Mumbai, New Delh...   \n",
       "9  Data Analyst | HyVee                                Bangalore/Bengaluru   \n",
       "\n",
       "        Company_Name Experience  \n",
       "0        Eastvantage    4-6 Yrs  \n",
       "1          Delhivery    1-3 Yrs  \n",
       "2     Everest Vacuum    2-5 Yrs  \n",
       "3     Boomi Software    1-5 Yrs  \n",
       "4          Synechron    5-8 Yrs  \n",
       "5  Synchron Infotech    5-8 Yrs  \n",
       "6             Cerner   5-10 Yrs  \n",
       "7  Persolkelly India    0-2 Yrs  \n",
       "8         Truthfools    3-8 Yrs  \n",
       "9          Talent500    3-5 Yrs  "
      ]
     },
     "execution_count": 22,
     "metadata": {},
     "output_type": "execute_result"
    }
   ],
   "source": [
    "import pandas as pd\n",
    "df=pd.DataFrame({\"Title\":job_titles,\"Location\":job_locations,\"Company_Name\":company_names,\"Experience\":experience_requireds})\n",
    "df"
   ]
  },
  {
   "cell_type": "markdown",
   "id": "1f3c387a",
   "metadata": {},
   "source": [
    "# Q2:Write a python program to scrape data for “Data Scientist” Job position in “Bangalore” location. You \n",
    "have to scrape the job-title, job-location, company_name. You have to scrape first 10 jobs data.\n",
    "This task will be done in following steps:"
   ]
  },
  {
   "cell_type": "code",
   "execution_count": 36,
   "id": "b91bd20c",
   "metadata": {},
   "outputs": [],
   "source": [
    "\n",
    "import selenium                                  #library that is used to work with selenium\n",
    "\n",
    "from selenium import webdriver                   #importing webdriver module from selenium to open automated chrome window\n",
    "\n",
    "import pandas as pd                              #to create DataFrame\n",
    "\n",
    "from selenium.webdriver.common.by import By      #importing inbuilt class By \n",
    "\n",
    "import warnings                                  #to ignore any sort of warning\n",
    "\n",
    "warnings.filterwarnings(\"ignore\")\n",
    "\n",
    "import time                                      #use to stop search engine for few seconds\n",
    "\n",
    "\n",
    "\n",
    "driver = webdriver.Chrome()\n",
    "\n",
    "driver.get(\"https://www.naukri.com/\")"
   ]
  },
  {
   "cell_type": "code",
   "execution_count": 37,
   "id": "5fe93b06",
   "metadata": {},
   "outputs": [],
   "source": [
    "design = driver.find_element(By.CLASS_NAME,\"suggestor-input\")\n",
    "design.send_keys(\"Data Scientist\")"
   ]
  },
  {
   "cell_type": "code",
   "execution_count": 41,
   "id": "9ca5db79",
   "metadata": {},
   "outputs": [],
   "source": [
    "location = driver.find_element(By.XPATH,\"/html/body/div[1]/div[7]/div/div/div[5]/div/div/div/div[1]/div/input\")\n",
    "location.send_keys(\"Bangalore\")"
   ]
  },
  {
   "cell_type": "code",
   "execution_count": 42,
   "id": "d3088392",
   "metadata": {},
   "outputs": [],
   "source": [
    "search = driver.find_element(By.CLASS_NAME,\"qsbSubmit\")\n",
    "search.click()"
   ]
  },
  {
   "cell_type": "code",
   "execution_count": 58,
   "id": "ab56b9dd",
   "metadata": {},
   "outputs": [],
   "source": [
    "Job_titles = []\n",
    "Job_locations = []\n",
    "Company_names = []"
   ]
  },
  {
   "cell_type": "code",
   "execution_count": 61,
   "id": "dfd3edf0",
   "metadata": {},
   "outputs": [],
   "source": [
    "job_tag = driver.find_elements(By.XPATH,'//a[@class=\"title ellipsis\"]')\n",
    "for i in job_tag[0:10]:\n",
    "    job=i.text\n",
    "    Job_titles.append(job)\n",
    "    \n",
    "loc_tag= driver.find_elements(By.XPATH,'//span[@class=\"ellipsis fleft locWdth\"]')\n",
    "for i in loc_tag[0:10]:\n",
    "    loc=i.text\n",
    "    Job_locations.append(loc)\n",
    "    \n",
    "company_tag = driver.find_elements(By.XPATH,'//a[@class=\"subTitle ellipsis fleft\"]')\n",
    "for i in company_tag[0:10]:\n",
    "    company=i.text\n",
    "    Company_names.append(company)"
   ]
  },
  {
   "cell_type": "code",
   "execution_count": 62,
   "id": "32381087",
   "metadata": {},
   "outputs": [
    {
     "name": "stdout",
     "output_type": "stream",
     "text": [
      "10 10 10\n"
     ]
    }
   ],
   "source": [
    "print(len(Job_titles),len(Job_locations),len(Company_names))"
   ]
  },
  {
   "cell_type": "code",
   "execution_count": 64,
   "id": "b3b59ffc",
   "metadata": {},
   "outputs": [
    {
     "data": {
      "text/html": [
       "<div>\n",
       "<style scoped>\n",
       "    .dataframe tbody tr th:only-of-type {\n",
       "        vertical-align: middle;\n",
       "    }\n",
       "\n",
       "    .dataframe tbody tr th {\n",
       "        vertical-align: top;\n",
       "    }\n",
       "\n",
       "    .dataframe thead th {\n",
       "        text-align: right;\n",
       "    }\n",
       "</style>\n",
       "<table border=\"1\" class=\"dataframe\">\n",
       "  <thead>\n",
       "    <tr style=\"text-align: right;\">\n",
       "      <th></th>\n",
       "      <th>Title</th>\n",
       "      <th>Location</th>\n",
       "      <th>Company_Name</th>\n",
       "    </tr>\n",
       "  </thead>\n",
       "  <tbody>\n",
       "    <tr>\n",
       "      <th>0</th>\n",
       "      <td>Data Science Specialist</td>\n",
       "      <td>Bangalore/Bengaluru, Kolkata, Mumbai, Hyderaba...</td>\n",
       "      <td>Accenture</td>\n",
       "    </tr>\n",
       "    <tr>\n",
       "      <th>1</th>\n",
       "      <td>Data Scientist</td>\n",
       "      <td>Bangalore/Bengaluru, Mumbai (All Areas)</td>\n",
       "      <td>PwC</td>\n",
       "    </tr>\n",
       "    <tr>\n",
       "      <th>2</th>\n",
       "      <td>Analystics &amp; Modeling Specialist</td>\n",
       "      <td>Bangalore/Bengaluru, Kolkata, Mumbai, Hyderaba...</td>\n",
       "      <td>Accenture</td>\n",
       "    </tr>\n",
       "    <tr>\n",
       "      <th>3</th>\n",
       "      <td>Data Scientist -ML, DL, Python</td>\n",
       "      <td>Bangalore/Bengaluru</td>\n",
       "      <td>Capco</td>\n",
       "    </tr>\n",
       "    <tr>\n",
       "      <th>4</th>\n",
       "      <td>DATA SCIENTIST</td>\n",
       "      <td>Bangalore/Bengaluru</td>\n",
       "      <td>Walmart</td>\n",
       "    </tr>\n",
       "    <tr>\n",
       "      <th>5</th>\n",
       "      <td>Data Scientist</td>\n",
       "      <td>Hybrid - Bangalore/ Bengaluru, Karnataka, Noid...</td>\n",
       "      <td>HCLTech</td>\n",
       "    </tr>\n",
       "    <tr>\n",
       "      <th>6</th>\n",
       "      <td>Data Scientist with Retail Domain</td>\n",
       "      <td>Bangalore/Bengaluru, Kolkata, Mumbai, Nagpur, ...</td>\n",
       "      <td>TRH Consultancy Services</td>\n",
       "    </tr>\n",
       "    <tr>\n",
       "      <th>7</th>\n",
       "      <td>Data Scientist</td>\n",
       "      <td>Bangalore/Bengaluru, Noida, Kolkata, Mumbai, H...</td>\n",
       "      <td>TRH Consultancy Services</td>\n",
       "    </tr>\n",
       "    <tr>\n",
       "      <th>8</th>\n",
       "      <td>Data Scientist</td>\n",
       "      <td>Bangalore/Bengaluru, Noida, Kolkata, Mumbai, H...</td>\n",
       "      <td>TRH Consultancy Services</td>\n",
       "    </tr>\n",
       "    <tr>\n",
       "      <th>9</th>\n",
       "      <td>Data Scientist</td>\n",
       "      <td>Bangalore/Bengaluru, Noida, Kolkata, Mumbai, H...</td>\n",
       "      <td>TRH Consultancy Services</td>\n",
       "    </tr>\n",
       "  </tbody>\n",
       "</table>\n",
       "</div>"
      ],
      "text/plain": [
       "                               Title  \\\n",
       "0            Data Science Specialist   \n",
       "1                     Data Scientist   \n",
       "2   Analystics & Modeling Specialist   \n",
       "3     Data Scientist -ML, DL, Python   \n",
       "4                     DATA SCIENTIST   \n",
       "5                     Data Scientist   \n",
       "6  Data Scientist with Retail Domain   \n",
       "7                     Data Scientist   \n",
       "8                     Data Scientist   \n",
       "9                     Data Scientist   \n",
       "\n",
       "                                            Location              Company_Name  \n",
       "0  Bangalore/Bengaluru, Kolkata, Mumbai, Hyderaba...                 Accenture  \n",
       "1            Bangalore/Bengaluru, Mumbai (All Areas)                       PwC  \n",
       "2  Bangalore/Bengaluru, Kolkata, Mumbai, Hyderaba...                 Accenture  \n",
       "3                                Bangalore/Bengaluru                     Capco  \n",
       "4                                Bangalore/Bengaluru                   Walmart  \n",
       "5  Hybrid - Bangalore/ Bengaluru, Karnataka, Noid...                   HCLTech  \n",
       "6  Bangalore/Bengaluru, Kolkata, Mumbai, Nagpur, ...  TRH Consultancy Services  \n",
       "7  Bangalore/Bengaluru, Noida, Kolkata, Mumbai, H...  TRH Consultancy Services  \n",
       "8  Bangalore/Bengaluru, Noida, Kolkata, Mumbai, H...  TRH Consultancy Services  \n",
       "9  Bangalore/Bengaluru, Noida, Kolkata, Mumbai, H...  TRH Consultancy Services  "
      ]
     },
     "execution_count": 64,
     "metadata": {},
     "output_type": "execute_result"
    }
   ],
   "source": [
    "import pandas as pd\n",
    "df=pd.DataFrame({\"Title\":Job_titles,\"Location\":Job_locations,\"Company_Name\":Company_names})\n",
    "df"
   ]
  },
  {
   "cell_type": "markdown",
   "id": "5529e031",
   "metadata": {},
   "source": [
    "# Q3: In this question you have to scrape data using the filters available on the webpage as shown below:\n",
    "You have to use the location and salary filter.\n",
    "You have to scrape data for “Data Scientist” designation for first 10 job results.\n",
    "You have to scrape the job-title, job-location, company name, experience required. \n",
    "The location filter to be used is “Delhi/NCR”. The salary filter to be used is “3-6” lakhs"
   ]
  },
  {
   "cell_type": "code",
   "execution_count": 1,
   "id": "8d6fd174",
   "metadata": {},
   "outputs": [],
   "source": [
    "import selenium                                  #library that is used to work with selenium\n",
    "\n",
    "from selenium import webdriver                   #importing webdriver module from selenium to open automated chrome window\n",
    "\n",
    "import pandas as pd                              #to create DataFrame\n",
    "\n",
    "from selenium.webdriver.common.by import By      #importing inbuilt class By \n",
    "\n",
    "import warnings                                  #to ignore any sort of warning\n",
    "\n",
    "warnings.filterwarnings(\"ignore\")\n",
    "\n",
    "import time                                      #use to stop search engine for few seconds\n",
    "\n",
    "\n",
    "\n",
    "driver = webdriver.Chrome()\n",
    "driver.get(\"https://www.naukri.com/\")"
   ]
  },
  {
   "cell_type": "code",
   "execution_count": 2,
   "id": "eaa8050a",
   "metadata": {},
   "outputs": [],
   "source": [
    "design = driver.find_element(By.CLASS_NAME,\"suggestor-input\")\n",
    "design.send_keys(\"Data Scientist\")"
   ]
  },
  {
   "cell_type": "code",
   "execution_count": 3,
   "id": "2cdfe44f",
   "metadata": {},
   "outputs": [],
   "source": [
    "# Click the search button\n",
    "search_button = driver.find_element(By.CLASS_NAME,\"qsbSubmit\")\n",
    "search_button.click()"
   ]
  },
  {
   "cell_type": "code",
   "execution_count": 4,
   "id": "550fd5b5",
   "metadata": {},
   "outputs": [],
   "source": [
    "# Apply location filter\n",
    "location_filter = driver.find_element(By.XPATH,'/html/body/div[1]/div[4]/div/div/section[1]/div[2]/div[5]/div[2]/div[2]/label/p/span[1]')\n",
    "location_filter.click()"
   ]
  },
  {
   "cell_type": "code",
   "execution_count": 5,
   "id": "693d6a2e",
   "metadata": {},
   "outputs": [],
   "source": [
    "# Apply salary filter\n",
    "salary_filter = driver.find_element(By.XPATH,'/html/body/div[1]/div[4]/div/div/section[1]/div[2]/div[6]/div[2]/div[2]/label/p/span[1]')\n",
    "salary_filter.click()"
   ]
  },
  {
   "cell_type": "code",
   "execution_count": 8,
   "id": "05b0837f",
   "metadata": {},
   "outputs": [],
   "source": [
    "job_titles = []\n",
    "job_locations = []\n",
    "company_names = []\n",
    "experience_requireds = []"
   ]
  },
  {
   "cell_type": "code",
   "execution_count": 9,
   "id": "86b74d20",
   "metadata": {},
   "outputs": [],
   "source": [
    "title_tag =driver.find_elements(By.XPATH,'//a[@class=\"title ellipsis\"]')\n",
    "for i in title_tag[0:10]:\n",
    "    title=i.text\n",
    "    job_titles.append(title)\n",
    "    \n",
    "    \n",
    "location_tag = driver.find_elements(By.XPATH,'//span[@class=\"ellipsis fleft locWdth\"]')\n",
    "for i in location_tag[0:10]:\n",
    "    location=i.text\n",
    "    job_locations.append(location)\n",
    "    \n",
    "    \n",
    "company_tag = driver.find_elements(By.XPATH,'//a[@class=\"subTitle ellipsis fleft\"]')\n",
    "for i in company_tag[0:10]:\n",
    "    company=i.text\n",
    "    company_names.append(company)\n",
    "    \n",
    "experience_tag = driver.find_elements(By.XPATH,'//span[@class=\"ellipsis fleft expwdth\"]')\n",
    "for i in experience_tag[0:10]:\n",
    "    experience=i.text\n",
    "    experience_requireds.append(experience)"
   ]
  },
  {
   "cell_type": "code",
   "execution_count": 10,
   "id": "8fac61f2",
   "metadata": {},
   "outputs": [
    {
     "name": "stdout",
     "output_type": "stream",
     "text": [
      "10 10 10 10\n"
     ]
    }
   ],
   "source": [
    "print(len(job_titles),len(job_locations),len(company_names),len(experience_requireds))"
   ]
  },
  {
   "cell_type": "code",
   "execution_count": 11,
   "id": "c41f83c4",
   "metadata": {},
   "outputs": [
    {
     "data": {
      "text/html": [
       "<div>\n",
       "<style scoped>\n",
       "    .dataframe tbody tr th:only-of-type {\n",
       "        vertical-align: middle;\n",
       "    }\n",
       "\n",
       "    .dataframe tbody tr th {\n",
       "        vertical-align: top;\n",
       "    }\n",
       "\n",
       "    .dataframe thead th {\n",
       "        text-align: right;\n",
       "    }\n",
       "</style>\n",
       "<table border=\"1\" class=\"dataframe\">\n",
       "  <thead>\n",
       "    <tr style=\"text-align: right;\">\n",
       "      <th></th>\n",
       "      <th>Title</th>\n",
       "      <th>Location</th>\n",
       "      <th>Company_Name</th>\n",
       "      <th>Experience</th>\n",
       "    </tr>\n",
       "  </thead>\n",
       "  <tbody>\n",
       "    <tr>\n",
       "      <th>0</th>\n",
       "      <td>Junior Data Scientist</td>\n",
       "      <td>Kolkata, Mumbai, New Delhi, Hyderabad/Secunder...</td>\n",
       "      <td>Analytos</td>\n",
       "      <td>0-2 Yrs</td>\n",
       "    </tr>\n",
       "    <tr>\n",
       "      <th>1</th>\n",
       "      <td>Data Scientist</td>\n",
       "      <td>Gurgaon/Gurugram, Bangalore/Bengaluru</td>\n",
       "      <td>Blackbuck</td>\n",
       "      <td>3-7 Yrs</td>\n",
       "    </tr>\n",
       "    <tr>\n",
       "      <th>2</th>\n",
       "      <td>Data Scientist/ Senior Data Scientist/ Manager...</td>\n",
       "      <td>Noida, Kolkata, Mumbai, Chandigarh, Hyderabad/...</td>\n",
       "      <td>Dreambig It Solutions India</td>\n",
       "      <td>1-6 Yrs</td>\n",
       "    </tr>\n",
       "    <tr>\n",
       "      <th>3</th>\n",
       "      <td>Data Scientist</td>\n",
       "      <td>Kolkata, Mumbai, New Delhi, Hyderabad/Secunder...</td>\n",
       "      <td>Analytos</td>\n",
       "      <td>2-4 Yrs</td>\n",
       "    </tr>\n",
       "    <tr>\n",
       "      <th>4</th>\n",
       "      <td>Data Scientist</td>\n",
       "      <td>Noida</td>\n",
       "      <td>Times Internet</td>\n",
       "      <td>3-8 Yrs</td>\n",
       "    </tr>\n",
       "    <tr>\n",
       "      <th>5</th>\n",
       "      <td>Python and ML Trainer</td>\n",
       "      <td>Hyderabad/Secunderabad, New Delhi, Pune, Gurga...</td>\n",
       "      <td>Thescholar</td>\n",
       "      <td>3-8 Yrs</td>\n",
       "    </tr>\n",
       "    <tr>\n",
       "      <th>6</th>\n",
       "      <td>Intern</td>\n",
       "      <td>Gurgaon/Gurugram</td>\n",
       "      <td>Tower Research Capital</td>\n",
       "      <td>0-1 Yrs</td>\n",
       "    </tr>\n",
       "    <tr>\n",
       "      <th>7</th>\n",
       "      <td>Hiring For Data Scientist</td>\n",
       "      <td>Remote</td>\n",
       "      <td>Infogain</td>\n",
       "      <td>4-9 Yrs</td>\n",
       "    </tr>\n",
       "    <tr>\n",
       "      <th>8</th>\n",
       "      <td>Junior Data Scientist</td>\n",
       "      <td>Gurgaon/Gurugram, United States (USA), Bulgaria</td>\n",
       "      <td>Adidas</td>\n",
       "      <td>1-6 Yrs</td>\n",
       "    </tr>\n",
       "    <tr>\n",
       "      <th>9</th>\n",
       "      <td>Associate Data Scientist - ML &amp; NLP</td>\n",
       "      <td>Gurgaon/Gurugram</td>\n",
       "      <td>Gartner</td>\n",
       "      <td>2-4 Yrs</td>\n",
       "    </tr>\n",
       "  </tbody>\n",
       "</table>\n",
       "</div>"
      ],
      "text/plain": [
       "                                               Title  \\\n",
       "0                              Junior Data Scientist   \n",
       "1                                     Data Scientist   \n",
       "2  Data Scientist/ Senior Data Scientist/ Manager...   \n",
       "3                                     Data Scientist   \n",
       "4                                     Data Scientist   \n",
       "5                              Python and ML Trainer   \n",
       "6                                             Intern   \n",
       "7                          Hiring For Data Scientist   \n",
       "8                              Junior Data Scientist   \n",
       "9                Associate Data Scientist - ML & NLP   \n",
       "\n",
       "                                            Location  \\\n",
       "0  Kolkata, Mumbai, New Delhi, Hyderabad/Secunder...   \n",
       "1              Gurgaon/Gurugram, Bangalore/Bengaluru   \n",
       "2  Noida, Kolkata, Mumbai, Chandigarh, Hyderabad/...   \n",
       "3  Kolkata, Mumbai, New Delhi, Hyderabad/Secunder...   \n",
       "4                                              Noida   \n",
       "5  Hyderabad/Secunderabad, New Delhi, Pune, Gurga...   \n",
       "6                                   Gurgaon/Gurugram   \n",
       "7                                             Remote   \n",
       "8    Gurgaon/Gurugram, United States (USA), Bulgaria   \n",
       "9                                   Gurgaon/Gurugram   \n",
       "\n",
       "                  Company_Name Experience  \n",
       "0                     Analytos    0-2 Yrs  \n",
       "1                    Blackbuck    3-7 Yrs  \n",
       "2  Dreambig It Solutions India    1-6 Yrs  \n",
       "3                     Analytos    2-4 Yrs  \n",
       "4               Times Internet    3-8 Yrs  \n",
       "5                   Thescholar    3-8 Yrs  \n",
       "6       Tower Research Capital    0-1 Yrs  \n",
       "7                     Infogain    4-9 Yrs  \n",
       "8                       Adidas    1-6 Yrs  \n",
       "9                      Gartner    2-4 Yrs  "
      ]
     },
     "execution_count": 11,
     "metadata": {},
     "output_type": "execute_result"
    }
   ],
   "source": [
    "import pandas as pd\n",
    "df=pd.DataFrame({\"Title\":job_titles,\"Location\":job_locations,\"Company_Name\":company_names,\"Experience\":experience_requireds})\n",
    "df"
   ]
  },
  {
   "cell_type": "markdown",
   "id": "ec14ef3c",
   "metadata": {},
   "source": [
    "# 4: Scrape data of first 100 sunglasses listings on flipkart.com. You have to scrape four attributes:\n",
    "1. Brand\n",
    "2. ProductDescription\n",
    "3. Price"
   ]
  },
  {
   "cell_type": "code",
   "execution_count": 40,
   "id": "21471489",
   "metadata": {},
   "outputs": [],
   "source": [
    "import selenium                                  #library that is used to work with selenium\n",
    "\n",
    "from selenium import webdriver                   #importing webdriver module from selenium to open automated chrome window\n",
    "\n",
    "import pandas as pd                              #to create DataFrame\n",
    "\n",
    "from selenium.webdriver.common.by import By      #importing inbuilt class By \n",
    "\n",
    "import warnings                                  #to ignore any sort of warning\n",
    "\n",
    "warnings.filterwarnings(\"ignore\")\n",
    "\n",
    "import time                                      #use to stop search engine for few seconds\n",
    "\n",
    "\n",
    "\n",
    "driver = webdriver.Chrome()\n",
    "\n",
    "driver.get(\"https://www.flipkart.com/\")"
   ]
  },
  {
   "cell_type": "code",
   "execution_count": 41,
   "id": "97841965",
   "metadata": {},
   "outputs": [],
   "source": [
    "designation=driver.find_element(By.XPATH,'//input[@class=\"_3704LK\"]')\n",
    "designation.send_keys('sunglasses')"
   ]
  },
  {
   "cell_type": "code",
   "execution_count": 42,
   "id": "0cd1bb51",
   "metadata": {},
   "outputs": [],
   "source": [
    "Search=driver.find_element(By.CLASS_NAME,\"L0Z3Pu\")\n",
    "Search.click()"
   ]
  },
  {
   "cell_type": "code",
   "execution_count": 43,
   "id": "2c8d49ea",
   "metadata": {},
   "outputs": [],
   "source": [
    "brand = []\n",
    "ProductDescription = []\n",
    "Price = []"
   ]
  },
  {
   "cell_type": "code",
   "execution_count": 61,
   "id": "452ddd05",
   "metadata": {},
   "outputs": [],
   "source": [
    "start=0\n",
    "end=3\n",
    "for page in range(start,end):\n",
    "    br = driver.find_elements(By.XPATH,'//div[@class=\"_2WkVRV\"]')\n",
    "    for i in br[0:100]:\n",
    "        brand.append(i.text)\n",
    "        \n",
    "    Product = driver.find_elements(By.XPATH,'//a[@class=\"IRpwTa\"]')\n",
    "    for i in Product[0:100]:\n",
    "        ProductDescription.append(i.text)\n",
    "        \n",
    "    Pricess = driver.find_elements(By.XPATH,'//div[@class=\"_30jeq3\"]')\n",
    "    for i in Pricess[0:100]:\n",
    "        Price.append(i.text)\n",
    "    \n",
    "        \n",
    "        \n",
    "    next_button=driver.find_element(By.XPATH,'//a[@class=\"_1LKTO3\"]')\n",
    "    next_button.click()\n",
    "    time.sleep(2)\n",
    "        \n",
    "    \n",
    "\n"
   ]
  },
  {
   "cell_type": "code",
   "execution_count": 62,
   "id": "76cba422",
   "metadata": {},
   "outputs": [
    {
     "name": "stdout",
     "output_type": "stream",
     "text": [
      "120 108 120\n"
     ]
    }
   ],
   "source": [
    "print(len(brand),len(ProductDescription),len(Price))"
   ]
  },
  {
   "cell_type": "code",
   "execution_count": 63,
   "id": "fdd6aed9",
   "metadata": {},
   "outputs": [
    {
     "data": {
      "text/plain": [
       "100"
      ]
     },
     "execution_count": 63,
     "metadata": {},
     "output_type": "execute_result"
    }
   ],
   "source": [
    "Brand=brand[0:100]\n",
    "len(Brand)"
   ]
  },
  {
   "cell_type": "code",
   "execution_count": 64,
   "id": "088d2cca",
   "metadata": {},
   "outputs": [
    {
     "data": {
      "text/plain": [
       "100"
      ]
     },
     "execution_count": 64,
     "metadata": {},
     "output_type": "execute_result"
    }
   ],
   "source": [
    "Product_Descriptionn = ProductDescription[0:100]\n",
    "len(Product_Descriptionn)"
   ]
  },
  {
   "cell_type": "code",
   "execution_count": 65,
   "id": "0f856e7f",
   "metadata": {},
   "outputs": [
    {
     "data": {
      "text/plain": [
       "100"
      ]
     },
     "execution_count": 65,
     "metadata": {},
     "output_type": "execute_result"
    }
   ],
   "source": [
    "Prices = Price[0:100]\n",
    "len(Prices)"
   ]
  },
  {
   "cell_type": "code",
   "execution_count": 66,
   "id": "e237f373",
   "metadata": {},
   "outputs": [
    {
     "name": "stdout",
     "output_type": "stream",
     "text": [
      "100 100 100\n"
     ]
    }
   ],
   "source": [
    "print(len(Brand),len(Product_Descriptionn),len(Prices))"
   ]
  },
  {
   "cell_type": "code",
   "execution_count": 67,
   "id": "523c968c",
   "metadata": {},
   "outputs": [
    {
     "data": {
      "text/html": [
       "<div>\n",
       "<style scoped>\n",
       "    .dataframe tbody tr th:only-of-type {\n",
       "        vertical-align: middle;\n",
       "    }\n",
       "\n",
       "    .dataframe tbody tr th {\n",
       "        vertical-align: top;\n",
       "    }\n",
       "\n",
       "    .dataframe thead th {\n",
       "        text-align: right;\n",
       "    }\n",
       "</style>\n",
       "<table border=\"1\" class=\"dataframe\">\n",
       "  <thead>\n",
       "    <tr style=\"text-align: right;\">\n",
       "      <th></th>\n",
       "      <th>Brand</th>\n",
       "      <th>Product_Descriptionn</th>\n",
       "      <th>Prices</th>\n",
       "    </tr>\n",
       "  </thead>\n",
       "  <tbody>\n",
       "    <tr>\n",
       "      <th>0</th>\n",
       "      <td>Singco India</td>\n",
       "      <td>Riding Glasses, UV Protection Clubmaster, Wayf...</td>\n",
       "      <td>₹359</td>\n",
       "    </tr>\n",
       "    <tr>\n",
       "      <th>1</th>\n",
       "      <td>ROYAL SON</td>\n",
       "      <td>UV Protection Rectangular, Retro Square Sungla...</td>\n",
       "      <td>₹497</td>\n",
       "    </tr>\n",
       "    <tr>\n",
       "      <th>2</th>\n",
       "      <td>Elligator</td>\n",
       "      <td>UV Protection Cat-eye, Retro Square, Oval, Rou...</td>\n",
       "      <td>₹168</td>\n",
       "    </tr>\n",
       "    <tr>\n",
       "      <th>3</th>\n",
       "      <td>SRPM</td>\n",
       "      <td>UV Protection Wayfarer Sunglasses (50)</td>\n",
       "      <td>₹194</td>\n",
       "    </tr>\n",
       "    <tr>\n",
       "      <th>4</th>\n",
       "      <td>iCopertina</td>\n",
       "      <td>UV Protection Retro Square Sunglasses (Free Size)</td>\n",
       "      <td>₹199</td>\n",
       "    </tr>\n",
       "    <tr>\n",
       "      <th>...</th>\n",
       "      <td>...</td>\n",
       "      <td>...</td>\n",
       "      <td>...</td>\n",
       "    </tr>\n",
       "    <tr>\n",
       "      <th>95</th>\n",
       "      <td>Elligator</td>\n",
       "      <td>Polarized, UV Protection Round Sunglasses (51)</td>\n",
       "      <td>₹152</td>\n",
       "    </tr>\n",
       "    <tr>\n",
       "      <th>96</th>\n",
       "      <td>VINCENT CHASE</td>\n",
       "      <td>UV Protection Rectangular Sunglasses (50)</td>\n",
       "      <td>₹850</td>\n",
       "    </tr>\n",
       "    <tr>\n",
       "      <th>97</th>\n",
       "      <td>ROYAL SON</td>\n",
       "      <td>UV Protection Wayfarer Sunglasses (56)</td>\n",
       "      <td>₹379</td>\n",
       "    </tr>\n",
       "    <tr>\n",
       "      <th>98</th>\n",
       "      <td>Sheomy Fashion</td>\n",
       "      <td>by Lenskart Polarized, UV Protection Wayfarer ...</td>\n",
       "      <td>₹399</td>\n",
       "    </tr>\n",
       "    <tr>\n",
       "      <th>99</th>\n",
       "      <td>New Specs</td>\n",
       "      <td>by Lenskart Polarized, UV Protection Retro Squ...</td>\n",
       "      <td>₹269</td>\n",
       "    </tr>\n",
       "  </tbody>\n",
       "</table>\n",
       "<p>100 rows × 3 columns</p>\n",
       "</div>"
      ],
      "text/plain": [
       "             Brand                               Product_Descriptionn Prices\n",
       "0     Singco India  Riding Glasses, UV Protection Clubmaster, Wayf...   ₹359\n",
       "1        ROYAL SON  UV Protection Rectangular, Retro Square Sungla...   ₹497\n",
       "2        Elligator  UV Protection Cat-eye, Retro Square, Oval, Rou...   ₹168\n",
       "3             SRPM             UV Protection Wayfarer Sunglasses (50)   ₹194\n",
       "4       iCopertina  UV Protection Retro Square Sunglasses (Free Size)   ₹199\n",
       "..             ...                                                ...    ...\n",
       "95       Elligator     Polarized, UV Protection Round Sunglasses (51)   ₹152\n",
       "96   VINCENT CHASE          UV Protection Rectangular Sunglasses (50)   ₹850\n",
       "97       ROYAL SON             UV Protection Wayfarer Sunglasses (56)   ₹379\n",
       "98  Sheomy Fashion  by Lenskart Polarized, UV Protection Wayfarer ...   ₹399\n",
       "99       New Specs  by Lenskart Polarized, UV Protection Retro Squ...   ₹269\n",
       "\n",
       "[100 rows x 3 columns]"
      ]
     },
     "execution_count": 67,
     "metadata": {},
     "output_type": "execute_result"
    }
   ],
   "source": [
    "import pandas as pd\n",
    "df=pd.DataFrame({\"Brand\":Brand,\"Product_Descriptionn\":Product_Descriptionn,\"Prices\":Prices})\n",
    "df"
   ]
  },
  {
   "cell_type": "markdown",
   "id": "92c4ad59",
   "metadata": {},
   "source": [
    "# Q5: Scrape 100 reviews data from flipkart.com for iphone11 phone. You have to go the link: \n",
    "https://www.flipkart.com/apple-iphone-11-black-64-gb/product\u0002reviews/itm4e5041ba101fd?pid=MOBFWQ6BXGJCEYNY&lid=LSTMOBFWQ6BXGJCEYNYZXSHRJ&market\n",
    "place=FLIPKART\n"
   ]
  },
  {
   "cell_type": "code",
   "execution_count": 29,
   "id": "c90bd3bf",
   "metadata": {},
   "outputs": [],
   "source": [
    "import selenium                                  #library that is used to work with selenium\n",
    "\n",
    "from selenium import webdriver                   #importing webdriver module from selenium to open automated chrome window\n",
    "\n",
    "import pandas as pd                              #to create DataFrame\n",
    "\n",
    "from selenium.webdriver.common.by import By      #importing inbuilt class By \n",
    "\n",
    "import warnings                                  #to ignore any sort of warning\n",
    "\n",
    "warnings.filterwarnings(\"ignore\")\n",
    "\n",
    "import time                                      #use to stop search engine for few seconds\n",
    "\n",
    "\n",
    "\n",
    "driver = webdriver.Chrome()\n",
    "\n",
    "driver.get(\"https://www.flipkart.com/apple-iphone-11-black-64-gb/product-reviews/itm4e5041ba101fd?pid=MOBFWQ6BXGJCEYNY&lid=LSTMOBFWQ6BXGJCEYNYZXSHRJ&market\")"
   ]
  },
  {
   "cell_type": "code",
   "execution_count": 30,
   "id": "49f76b03",
   "metadata": {},
   "outputs": [],
   "source": [
    "next_button=driver.find_element(By.CLASS_NAME,\"_1LKTO3\")\n",
    "next_button.click()"
   ]
  },
  {
   "cell_type": "code",
   "execution_count": 31,
   "id": "345cb338",
   "metadata": {},
   "outputs": [],
   "source": [
    "Rating = []\n",
    "Review_summary = []\n",
    "Full_review = []"
   ]
  },
  {
   "cell_type": "code",
   "execution_count": 32,
   "id": "cb5f3c12",
   "metadata": {},
   "outputs": [],
   "source": [
    "start = 0\n",
    "end = 12\n",
    "\n",
    "for page in range(start,end):\n",
    "    rate = driver.find_elements(By.XPATH,'//div[@class=\"_3LWZlK _1BLPMq\"]')\n",
    "    for i in rate[0:100]:\n",
    "        Rating.append(i.text)\n",
    "        \n",
    "    review = driver.find_elements(By.XPATH,'//p[@class=\"_2-N8zT\"]')\n",
    "    for i in review[0:100]:\n",
    "        Review_summary.append(i.text)\n",
    "        \n",
    "    full_review = driver.find_elements(By.XPATH,'//div[@class=\"t-ZTKy\"]')\n",
    "    for i in full_review[0:100]:\n",
    "        Full_review.append(i.text)\n",
    "        \n",
    "    \n",
    "    next_button=driver.find_element(By.CLASS_NAME,\"_1LKTO3\")\n",
    "    next_button.click\n",
    "    time.sleep(8)\n",
    "    "
   ]
  },
  {
   "cell_type": "code",
   "execution_count": 33,
   "id": "13d40855",
   "metadata": {},
   "outputs": [
    {
     "name": "stdout",
     "output_type": "stream",
     "text": [
      "120 120 120\n"
     ]
    }
   ],
   "source": [
    "print(len(Rating),len(Full_review),len(Review_summary))"
   ]
  },
  {
   "cell_type": "code",
   "execution_count": 37,
   "id": "3cc390bb",
   "metadata": {},
   "outputs": [],
   "source": [
    "Ratings=Rating[0:100]\n",
    "Full_reviews=Full_review[0:100]\n",
    "Review_summarys=Review_summary[0:100]"
   ]
  },
  {
   "cell_type": "code",
   "execution_count": 38,
   "id": "3d432534",
   "metadata": {},
   "outputs": [
    {
     "name": "stdout",
     "output_type": "stream",
     "text": [
      "100 100 100\n"
     ]
    }
   ],
   "source": [
    "print(len(Ratings),len(Full_reviews),len(Review_summarys))"
   ]
  },
  {
   "cell_type": "code",
   "execution_count": 39,
   "id": "0398fb8f",
   "metadata": {},
   "outputs": [
    {
     "data": {
      "text/html": [
       "<div>\n",
       "<style scoped>\n",
       "    .dataframe tbody tr th:only-of-type {\n",
       "        vertical-align: middle;\n",
       "    }\n",
       "\n",
       "    .dataframe tbody tr th {\n",
       "        vertical-align: top;\n",
       "    }\n",
       "\n",
       "    .dataframe thead th {\n",
       "        text-align: right;\n",
       "    }\n",
       "</style>\n",
       "<table border=\"1\" class=\"dataframe\">\n",
       "  <thead>\n",
       "    <tr style=\"text-align: right;\">\n",
       "      <th></th>\n",
       "      <th>Ratings</th>\n",
       "      <th>Full_reviews</th>\n",
       "      <th>Review_summarys</th>\n",
       "    </tr>\n",
       "  </thead>\n",
       "  <tbody>\n",
       "    <tr>\n",
       "      <th>0</th>\n",
       "      <td>5</td>\n",
       "      <td>Go for iPhone 11 , if confused between iPhone ...</td>\n",
       "      <td>Must buy!</td>\n",
       "    </tr>\n",
       "    <tr>\n",
       "      <th>1</th>\n",
       "      <td>5</td>\n",
       "      <td>Purple is best</td>\n",
       "      <td>Great product</td>\n",
       "    </tr>\n",
       "    <tr>\n",
       "      <th>2</th>\n",
       "      <td>5</td>\n",
       "      <td>Value for money 😍</td>\n",
       "      <td>Terrific purchase</td>\n",
       "    </tr>\n",
       "    <tr>\n",
       "      <th>3</th>\n",
       "      <td>5</td>\n",
       "      <td>Best camera ever</td>\n",
       "      <td>Excellent</td>\n",
       "    </tr>\n",
       "    <tr>\n",
       "      <th>4</th>\n",
       "      <td>5</td>\n",
       "      <td>Buy it if you afford it 😜</td>\n",
       "      <td>Simply awesome</td>\n",
       "    </tr>\n",
       "    <tr>\n",
       "      <th>...</th>\n",
       "      <td>...</td>\n",
       "      <td>...</td>\n",
       "      <td>...</td>\n",
       "    </tr>\n",
       "    <tr>\n",
       "      <th>95</th>\n",
       "      <td>5</td>\n",
       "      <td>Excellent Phone.</td>\n",
       "      <td>Brilliant</td>\n",
       "    </tr>\n",
       "    <tr>\n",
       "      <th>96</th>\n",
       "      <td>5</td>\n",
       "      <td>Value for money 🖤🖤</td>\n",
       "      <td>Terrific purchase</td>\n",
       "    </tr>\n",
       "    <tr>\n",
       "      <th>97</th>\n",
       "      <td>5</td>\n",
       "      <td>It’s very good battery life and display and vi...</td>\n",
       "      <td>Fabulous!</td>\n",
       "    </tr>\n",
       "    <tr>\n",
       "      <th>98</th>\n",
       "      <td>5</td>\n",
       "      <td>I dreamt about this day from a long time.... G...</td>\n",
       "      <td>Awesome</td>\n",
       "    </tr>\n",
       "    <tr>\n",
       "      <th>99</th>\n",
       "      <td>5</td>\n",
       "      <td>Very good</td>\n",
       "      <td>Wonderful</td>\n",
       "    </tr>\n",
       "  </tbody>\n",
       "</table>\n",
       "<p>100 rows × 3 columns</p>\n",
       "</div>"
      ],
      "text/plain": [
       "   Ratings                                       Full_reviews  \\\n",
       "0        5  Go for iPhone 11 , if confused between iPhone ...   \n",
       "1        5                                     Purple is best   \n",
       "2        5                                  Value for money 😍   \n",
       "3        5                                   Best camera ever   \n",
       "4        5                          Buy it if you afford it 😜   \n",
       "..     ...                                                ...   \n",
       "95       5                                   Excellent Phone.   \n",
       "96       5                                 Value for money 🖤🖤   \n",
       "97       5  It’s very good battery life and display and vi...   \n",
       "98       5  I dreamt about this day from a long time.... G...   \n",
       "99       5                                          Very good   \n",
       "\n",
       "      Review_summarys  \n",
       "0           Must buy!  \n",
       "1       Great product  \n",
       "2   Terrific purchase  \n",
       "3           Excellent  \n",
       "4      Simply awesome  \n",
       "..                ...  \n",
       "95          Brilliant  \n",
       "96  Terrific purchase  \n",
       "97          Fabulous!  \n",
       "98            Awesome  \n",
       "99          Wonderful  \n",
       "\n",
       "[100 rows x 3 columns]"
      ]
     },
     "execution_count": 39,
     "metadata": {},
     "output_type": "execute_result"
    }
   ],
   "source": [
    "import pandas as pd\n",
    "df=pd.DataFrame({\"Ratings\":Ratings,\"Full_reviews\":Full_reviews,\"Review_summarys\":Review_summarys})\n",
    "df"
   ]
  },
  {
   "cell_type": "code",
   "execution_count": null,
   "id": "23c8b347",
   "metadata": {},
   "outputs": [],
   "source": []
  },
  {
   "cell_type": "markdown",
   "id": "f562616f",
   "metadata": {},
   "source": [
    "# Q6: Scrape data forfirst 100 sneakers you find when you visit flipkart.com and search for “sneakers” in the \n",
    "search field.\n",
    "You have to scrape 3 attributes of each sneaker:\n",
    "1. Brand\n",
    "2. ProductDescription\n",
    "3. Price\n",
    "As shown in the b"
   ]
  },
  {
   "cell_type": "code",
   "execution_count": 61,
   "id": "ebef6762",
   "metadata": {},
   "outputs": [],
   "source": [
    "import selenium                                  #library that is used to work with selenium\n",
    "\n",
    "from selenium import webdriver                   #importing webdriver module from selenium to open automated chrome window\n",
    "\n",
    "import pandas as pd                              #to create DataFrame\n",
    "\n",
    "from selenium.webdriver.common.by import By      #importing inbuilt class By \n",
    "\n",
    "import warnings                                  #to ignore any sort of warning\n",
    "\n",
    "warnings.filterwarnings(\"ignore\")\n",
    "\n",
    "import time                                      #use to stop search engine for few seconds\n",
    "\n",
    "\n",
    "\n",
    "driver = webdriver.Chrome()\n",
    "\n",
    "driver.get('https://www.flipkart.com/')"
   ]
  },
  {
   "cell_type": "code",
   "execution_count": 68,
   "id": "ab87ff5b",
   "metadata": {},
   "outputs": [],
   "source": [
    "designation=driver.find_element(By.XPATH,'//input[@class=\"_3704LK\"]')\n",
    "designation.send_keys('sneakers')"
   ]
  },
  {
   "cell_type": "code",
   "execution_count": 69,
   "id": "b1c9ffa1",
   "metadata": {},
   "outputs": [],
   "source": [
    "Search=driver.find_element(By.CLASS_NAME,\"L0Z3Pu\")\n",
    "Search.click()"
   ]
  },
  {
   "cell_type": "code",
   "execution_count": 70,
   "id": "ee5bf2ea",
   "metadata": {},
   "outputs": [],
   "source": [
    "brand = []\n",
    "ProductDescription = []\n",
    "Price = []"
   ]
  },
  {
   "cell_type": "code",
   "execution_count": 71,
   "id": "e2110958",
   "metadata": {},
   "outputs": [
    {
     "name": "stdout",
     "output_type": "stream",
     "text": [
      "['lejano', 'Longwalk', 'Magnolia', 'BRUTON', 'Sparx', 'aadi', 'ALDO', 'Dizzler', 'RED TAPE', 'Nobelite', 'Kraasa', 'bacca bucci', 'Sparx', 'Kraasa', 'BRUTON', 'Deals4you', 'HIGHLANDER', 'FILA', 'Reston', 'asian', 'PUMA', 'HIGHLANDER', 'asian', 'aadi', 'asian', 'asian', 'HIGHLANDER', 'HIGHLANDER', 'Magnolia', 'asian', 'HIGHLANDER', 'HIGHLANDER', 'Airson', 'PUMA', 'Free Kicks', 'HIGHLANDER', 'Longwalk', 'HIGHLANDER', 'LE GREEM', 'BRUTON', 'K- FOOTLANCE', 'K- FOOTLANCE', 'Kraasa', 'aadi', 'Labbin', 'BIRDE', 'Krors', 'ATOM', 'PUMA', 'PUMA', 'HOTSTYLE', 'Krors', 'PUMA', 'asian', 'aadi', 'RED TAPE', 'RapidBox', 'ATOM', 'aadi', 'ATOM', 'RED CHIEF', 'New Balance', 'BRUTON', 'PETER ENGLAND', 'asian', 'aadi', 'Zixer', 'RapidBox', 'MILESWALKER', 'Sparx', 'RapidBox', 'RapidBox', 'asian', 'asian', 'Sparx', 'asian', 'Zixer', 'SOLETHREADS', 'BIRDE', 'PUMA', 'lejano', 'PUMA', 'Magnolia', 'BRUTON', 'Sparx', 'aadi', 'ALDO', 'Dizzler', 'RED TAPE', 'Nobelite', 'Kraasa', 'bacca bucci', 'Sparx', 'Kraasa', 'BRUTON', 'Deals4you', 'HIGHLANDER', 'HIGHLANDER', 'Reston', 'asian', 'HIGHLANDER', 'HIGHLANDER', 'asian', 'aadi', 'asian', 'asian', 'HIGHLANDER', 'HIGHLANDER', 'Magnolia', 'asian', 'Longwalk', 'HIGHLANDER', 'Airson', 'PUMA', 'Free Kicks', 'HIGHLANDER', 'HIGHLANDER', 'HIGHLANDER', 'LE GREEM', 'BRUTON']\n",
      "['Sneakers For Men', 'Perfect pink Stylish Girls Casual Shoes Sneakers For Wo...', 'Modern Trendy Sneakers boot Sneakers Sneakers For Men', 'Modern Trendy Shoes Sneakers For Men', 'SM-747 Sneakers For Men', 'Lightweight,Comfort,Summer,Trendy,Walking,Outdoor,Styli...', 'Sneakers For Men', 'Sneakers For Men', 'Classic Sneakers For Men', 'SAINT Low top Classic Sneakers/Casual Shoes for Men Sne...', 'SM-734 Sneakers For Men', 'Sneakers For Women', 'Combo Pack Of 4 Casual Shoes Loafer Shoes Sneakers For ...', 'Sneakers For Women', 'Sneakers For Men', 'Skypy-31 Shoes Sneakers For Men', 'Onehill Sneakers For Men', 'Sneakers For Men', 'Thunder-01 White Color Change Sneakers,Casuals,Loafer S...', 'Sneakers For Men', 'SM-162 Black Walking ,Training,Sneakers,Loafers,Canvas,...', 'Trendy-21 White Color Change Sneakers,Casuals,Loafers S...', 'Sneakers For Men', 'Sneakers For Men', 'Sneakers For Men', 'Achiever-15 Grey Sneakers,Loafers,Casuals,Synthetic Sne...', 'Sneakers For Men', 'Sneakers For Men', 'Junior Zero1 Sports shoes for Men | Gym Training Walkin...', 'Hustle V2 Sneakers For Men', 'Sneakers For Men', 'Sneakers For Men', 'Sneakers For Women', 'Sneakers For Men', 'Sneakers For Men', '2 Combo Sneaker Shoes Sneakers For Men', 'Sneakers For Men', 'Sneakers For Men', 'Casuals, Canvas, Partywear Sneakers For Men', 'Synthetic Leather |Lightweight|Comfort|Summer|Trendy|Wa...', 'Casual Sneakers ColourFul Block Shoes For Boys And Men ...', 'Combo Pack of 2 Casual Shoes Sneakers For Men', \"Styles Men's Fashion Outdoor Trend High Top Sports Shoe...\", 'Sneakers For Men', 'Hustle V2 Running Shoes For Men', 'Hustle V2 Sneakers For Men', 'Combo Pack Of 2 Sneakers For Men', \"Styles Men's Fashion Outdoor Trend High Top Sports Shoe...\", 'Hustle V2 Sneakers For Men', 'Achiever-16 Blue Sneakers,Casuals,Walking,Stylish Loafe...', 'Mesh| Lightweight| Premiun| Comfort| Summer Tendy| Outd...', 'Walking Sports Shoes for Women | Soft Cushioned Insole,...', 'Sneakers For Men', 'Sneakers For Men', 'Synthetic Leather |Lightweight|Comfort|Summer|Trendy|Wa...', 'Sneakers For Men', 'RC3505 022 Sneakers For Men', 'XC72 Sneakers For Men', '2 Combo Sneaker Shoes Sneakers For Men', 'Sneakers For Men', 'Skypy-31 Walking Shoes,Training Shoes,Sneakers,Loafers,...', 'Sneakers For Men', 'Sneakers For Men', 'Stylish Casual Sports Shoe Sneakers For Women Sneakers ...', 'SM-734 Sneakers For Men', 'Sneakers For Men', 'Sneakers For Men', 'Newton-01 Grey Sports,Casual,Walking,Training,Gym,Styli...', \"Men's W-05 Casual White Sneaker Shoes With Waterproof S...\", 'Canvas Casual Partywear Outdoor Sneakers Shoes For Mens...', 'SM-162 Navy Blue Walking,Training ,Sneakers,Loafers,Can...', 'Sneakers Dancing Shoes/Street Dancing Shoe For Men/R.T....', 'Sneakers For Men', 'Combo Pack Of 2 Casual Shoes Sneakers For Men', 'Hustle V2 Sneakers For Men', 'Sneakers For Men', 'Onehill Sneakers For Men', 'Modern Trendy Sneakers boot Sneakers Sneakers For Men', 'Modern Trendy Shoes Sneakers For Men', 'SM-747 Sneakers For Men', 'Lightweight,Comfort,Summer,Trendy,Walking,Outdoor,Styli...', 'Sneakers For Men', 'Sneakers For Men', 'Classic Sneakers For Men', 'SAINT Low top Classic Sneakers/Casual Shoes for Men Sne...', 'SM-734 Sneakers For Men', 'Sneakers For Women', 'Combo Pack Of 4 Casual Shoes Loafer Shoes Sneakers For ...', 'Sneakers For Women', 'Sneakers For Men', 'Skypy-31 Shoes Sneakers For Men', 'Sneakers For Men', 'Sneakers For Men', 'Thunder-01 White Color Change Sneakers,Casuals,Loafer S...', 'Sneakers For Men', 'SM-162 Black Walking ,Training,Sneakers,Loafers,Canvas,...', 'Trendy-21 White Color Change Sneakers,Casuals,Loafers S...', 'Sneakers For Men', 'Sneakers For Men', 'Sneakers For Men', 'Achiever-15 Grey Sneakers,Loafers,Casuals,Synthetic Sne...', 'Sneakers For Women', 'Sneakers For Men', 'Junior Zero1 Sports shoes for Men | Gym Training Walkin...', 'Hustle V2 Sneakers For Men', 'Sneakers For Men', 'Sneakers For Men', 'Sneakers For Men', 'Sneakers For Men', '2 Combo Sneaker Shoes Sneakers For Men']\n",
      "['₹429', '₹399', '₹499', '₹299', '₹854', '₹437', '₹11,999', '₹509', '₹1,455', '₹469', '₹599', '₹1,499', '₹749', '₹399', '₹599', '₹599', '₹649', '₹3,107', '₹749', '₹509', '₹2,192', '₹796', '₹799', '₹499', '₹499', '₹649', '₹796', '₹796', '₹299', '₹549', '₹796', '₹497', '₹989', '₹1,399', '₹999', '₹696', '₹599', '₹696', '₹549', '₹549', '₹449', '₹449', '₹499', '₹427', '₹588', '₹479', '₹539', '₹1,389', '₹1,399', '₹1,399', '₹499', '₹539', '₹1,399', '₹574', '₹426', '₹1,028', '₹649', '₹1,285', '₹431', '₹1,389', '₹2,759', '₹6,759', '₹549', '₹1,099', '₹509', '₹399', '₹753', '₹649', '₹549', '₹749', '₹750', '₹649', '₹549', '₹674', '₹719', '₹499', '₹753', '₹1,099', '₹479', '₹1,399', '₹429', '₹2,192', '₹499', '₹299', '₹854', '₹437', '₹11,999', '₹509', '₹1,455', '₹469', '₹599', '₹1,499', '₹749', '₹399', '₹599', '₹599', '₹649', '₹796', '₹749', '₹509', '₹796', '₹796', '₹799', '₹499', '₹499', '₹649', '₹796', '₹497', '₹299', '₹549', '₹599', '₹696', '₹989', '₹1,399', '₹999', '₹696', '₹479', '₹549', '₹549']\n"
     ]
    }
   ],
   "source": [
    "start=0\n",
    "end=3\n",
    "for page in range(start,end):\n",
    "    br = driver.find_elements(By.XPATH,'//div[@class=\"_2WkVRV\"]')\n",
    "    for i in br[0:100]:\n",
    "        brand.append(i.text)\n",
    "        \n",
    "    Product = driver.find_elements(By.XPATH,'//a[@class=\"IRpwTa\"]')\n",
    "    for i in Product[0:100]:\n",
    "        ProductDescription.append(i.text)\n",
    "        \n",
    "    Pricess = driver.find_elements(By.XPATH,'//div[@class=\"_30jeq3\"]')\n",
    "    for i in Pricess[0:100]:\n",
    "        Price.append(i.text)\n",
    "    \n",
    "        \n",
    "        \n",
    "    next_button=driver.find_element(By.XPATH,'//a[@class=\"_1LKTO3\"]')\n",
    "    next_button.click()\n",
    "    time.sleep(2)\n",
    "        \n",
    "print(brand)\n",
    "print(ProductDescription)\n",
    "print(Price)"
   ]
  },
  {
   "cell_type": "code",
   "execution_count": 72,
   "id": "1cd960e6",
   "metadata": {},
   "outputs": [
    {
     "name": "stdout",
     "output_type": "stream",
     "text": [
      "120 110 119\n"
     ]
    }
   ],
   "source": [
    "print(len(brand),len(ProductDescription),len(Price))"
   ]
  },
  {
   "cell_type": "code",
   "execution_count": 73,
   "id": "c3d51d7d",
   "metadata": {},
   "outputs": [
    {
     "data": {
      "text/plain": [
       "100"
      ]
     },
     "execution_count": 73,
     "metadata": {},
     "output_type": "execute_result"
    }
   ],
   "source": [
    "Brand=brand[0:100]\n",
    "len(Brand)"
   ]
  },
  {
   "cell_type": "code",
   "execution_count": 74,
   "id": "7e160da1",
   "metadata": {},
   "outputs": [
    {
     "data": {
      "text/plain": [
       "100"
      ]
     },
     "execution_count": 74,
     "metadata": {},
     "output_type": "execute_result"
    }
   ],
   "source": [
    "Product_Descriptionn = ProductDescription[0:100]\n",
    "len(Product_Descriptionn)"
   ]
  },
  {
   "cell_type": "code",
   "execution_count": 75,
   "id": "b0d55b4a",
   "metadata": {},
   "outputs": [
    {
     "data": {
      "text/plain": [
       "100"
      ]
     },
     "execution_count": 75,
     "metadata": {},
     "output_type": "execute_result"
    }
   ],
   "source": [
    "Prices = Price[0:100]\n",
    "len(Prices)"
   ]
  },
  {
   "cell_type": "code",
   "execution_count": 76,
   "id": "6c40c50b",
   "metadata": {},
   "outputs": [
    {
     "name": "stdout",
     "output_type": "stream",
     "text": [
      "100 100 100\n"
     ]
    }
   ],
   "source": [
    "print(len(Brand),len(Product_Descriptionn),len(Prices))"
   ]
  },
  {
   "cell_type": "code",
   "execution_count": 77,
   "id": "428508a4",
   "metadata": {
    "scrolled": true
   },
   "outputs": [
    {
     "data": {
      "text/html": [
       "<div>\n",
       "<style scoped>\n",
       "    .dataframe tbody tr th:only-of-type {\n",
       "        vertical-align: middle;\n",
       "    }\n",
       "\n",
       "    .dataframe tbody tr th {\n",
       "        vertical-align: top;\n",
       "    }\n",
       "\n",
       "    .dataframe thead th {\n",
       "        text-align: right;\n",
       "    }\n",
       "</style>\n",
       "<table border=\"1\" class=\"dataframe\">\n",
       "  <thead>\n",
       "    <tr style=\"text-align: right;\">\n",
       "      <th></th>\n",
       "      <th>Brand</th>\n",
       "      <th>Product_Descriptionn</th>\n",
       "      <th>Prices</th>\n",
       "    </tr>\n",
       "  </thead>\n",
       "  <tbody>\n",
       "    <tr>\n",
       "      <th>0</th>\n",
       "      <td>lejano</td>\n",
       "      <td>Sneakers For Men</td>\n",
       "      <td>₹429</td>\n",
       "    </tr>\n",
       "    <tr>\n",
       "      <th>1</th>\n",
       "      <td>Longwalk</td>\n",
       "      <td>Perfect pink Stylish Girls Casual Shoes Sneake...</td>\n",
       "      <td>₹399</td>\n",
       "    </tr>\n",
       "    <tr>\n",
       "      <th>2</th>\n",
       "      <td>Magnolia</td>\n",
       "      <td>Modern Trendy Sneakers boot Sneakers Sneakers ...</td>\n",
       "      <td>₹499</td>\n",
       "    </tr>\n",
       "    <tr>\n",
       "      <th>3</th>\n",
       "      <td>BRUTON</td>\n",
       "      <td>Modern Trendy Shoes Sneakers For Men</td>\n",
       "      <td>₹299</td>\n",
       "    </tr>\n",
       "    <tr>\n",
       "      <th>4</th>\n",
       "      <td>Sparx</td>\n",
       "      <td>SM-747 Sneakers For Men</td>\n",
       "      <td>₹854</td>\n",
       "    </tr>\n",
       "    <tr>\n",
       "      <th>...</th>\n",
       "      <td>...</td>\n",
       "      <td>...</td>\n",
       "      <td>...</td>\n",
       "    </tr>\n",
       "    <tr>\n",
       "      <th>95</th>\n",
       "      <td>Deals4you</td>\n",
       "      <td>SM-162 Black Walking ,Training,Sneakers,Loafer...</td>\n",
       "      <td>₹599</td>\n",
       "    </tr>\n",
       "    <tr>\n",
       "      <th>96</th>\n",
       "      <td>HIGHLANDER</td>\n",
       "      <td>Trendy-21 White Color Change Sneakers,Casuals,...</td>\n",
       "      <td>₹649</td>\n",
       "    </tr>\n",
       "    <tr>\n",
       "      <th>97</th>\n",
       "      <td>HIGHLANDER</td>\n",
       "      <td>Sneakers For Men</td>\n",
       "      <td>₹796</td>\n",
       "    </tr>\n",
       "    <tr>\n",
       "      <th>98</th>\n",
       "      <td>Reston</td>\n",
       "      <td>Sneakers For Men</td>\n",
       "      <td>₹749</td>\n",
       "    </tr>\n",
       "    <tr>\n",
       "      <th>99</th>\n",
       "      <td>asian</td>\n",
       "      <td>Sneakers For Men</td>\n",
       "      <td>₹509</td>\n",
       "    </tr>\n",
       "  </tbody>\n",
       "</table>\n",
       "<p>100 rows × 3 columns</p>\n",
       "</div>"
      ],
      "text/plain": [
       "         Brand                               Product_Descriptionn Prices\n",
       "0       lejano                                   Sneakers For Men   ₹429\n",
       "1     Longwalk  Perfect pink Stylish Girls Casual Shoes Sneake...   ₹399\n",
       "2     Magnolia  Modern Trendy Sneakers boot Sneakers Sneakers ...   ₹499\n",
       "3       BRUTON               Modern Trendy Shoes Sneakers For Men   ₹299\n",
       "4        Sparx                            SM-747 Sneakers For Men   ₹854\n",
       "..         ...                                                ...    ...\n",
       "95   Deals4you  SM-162 Black Walking ,Training,Sneakers,Loafer...   ₹599\n",
       "96  HIGHLANDER  Trendy-21 White Color Change Sneakers,Casuals,...   ₹649\n",
       "97  HIGHLANDER                                   Sneakers For Men   ₹796\n",
       "98      Reston                                   Sneakers For Men   ₹749\n",
       "99       asian                                   Sneakers For Men   ₹509\n",
       "\n",
       "[100 rows x 3 columns]"
      ]
     },
     "execution_count": 77,
     "metadata": {},
     "output_type": "execute_result"
    }
   ],
   "source": [
    "import pandas as pd\n",
    "df=pd.DataFrame({\"Brand\":Brand,\"Product_Descriptionn\":Product_Descriptionn,\"Prices\":Prices})\n",
    "df"
   ]
  },
  {
   "cell_type": "markdown",
   "id": "b2a44733",
   "metadata": {},
   "source": [
    "# Q 7  Go to webpage https://www.amazon.in/ Enter “Laptop” in the search field and then click the search icon.  \n",
    "Then set CPU Type filter to “Intel Core i7” as shown in the below image"
   ]
  },
  {
   "cell_type": "code",
   "execution_count": 57,
   "id": "9f240df7",
   "metadata": {},
   "outputs": [],
   "source": [
    "import selenium                                  #library that is used to work with selenium\n",
    "\n",
    "from selenium import webdriver                   #importing webdriver module from selenium to open automated chrome window\n",
    "\n",
    "import pandas as pd                              #to create DataFrame\n",
    "\n",
    "from selenium.webdriver.common.by import By      #importing inbuilt class By \n",
    "\n",
    "import warnings                                  #to ignore any sort of warning\n",
    "\n",
    "warnings.filterwarnings(\"ignore\")\n",
    "\n",
    "import time                                      #use to stop search engine for few seconds\n",
    "\n",
    "\n",
    "\n",
    "driver = webdriver.Chrome()\n",
    "\n",
    "driver.get('https://www.amazon.in/')"
   ]
  },
  {
   "cell_type": "code",
   "execution_count": 58,
   "id": "a152a788",
   "metadata": {},
   "outputs": [],
   "source": [
    "enter = driver.find_element(By.XPATH,'//input[@class=\"nav-input nav-progressive-attribute\"]')\n",
    "enter.send_keys('Laptop')"
   ]
  },
  {
   "cell_type": "code",
   "execution_count": 59,
   "id": "85fddaa4",
   "metadata": {},
   "outputs": [],
   "source": [
    "search = driver.find_element(By.XPATH,'//div[@class=\"nav-search-submit nav-sprite\"]')\n",
    "search.click()"
   ]
  },
  {
   "cell_type": "code",
   "execution_count": 61,
   "id": "2e007ab1",
   "metadata": {},
   "outputs": [],
   "source": [
    "cpu_filter = driver.find_element(By.XPATH,'/html/body/div[1]/div[2]/div[1]/div[2]/div/div[3]/span/div[1]/div/div/div[8]/ul[7]/span[13]/li/span')\n",
    "cpu_filter.click()"
   ]
  },
  {
   "cell_type": "code",
   "execution_count": 62,
   "id": "02dcff2f",
   "metadata": {},
   "outputs": [],
   "source": [
    "title = []\n",
    "Ratings = []\n",
    "Price = []\n"
   ]
  },
  {
   "cell_type": "code",
   "execution_count": 63,
   "id": "54015bba",
   "metadata": {},
   "outputs": [
    {
     "name": "stdout",
     "output_type": "stream",
     "text": [
      "['Dell Inspiron 5430 13th Gen', ', Intel i7-1360P/16GB/1TB SSD/14.0\" (35.56CMs) FHD+ WVA AG with Comfortview Support 250 nits/Backlit KB+FPR/Win 11+MSO\\'21/15 Month McAfee/Platinum Silver/1.59KGs', 'Lenovo ThinkPad E14 Intel Core i7 12th Gen 14\" FHD IPS Thin and Light', '(16GB RAM/512GB SSD/Windows 11 Home/MS Office H&S 2021/Backlit Keyboard/FPR/Black/1.59 kg), 21E3S05B00', 'ASUS ROG Zephyrus G16, 16-inch (40.64 cms) FHD+ 165Hz, Intel Core i7-12700H 12th Gen, RTX 4050 6GB Graphics, Gaming', '', 'HP Pavilion 14, 11Th Gen Intel Core I7-16Gb Ram/1Tb Ssd 14 Inches', '/Intel Iris Xe Graphics/Backlit Keyboard/Alexa/B&O Audio/Fast Charge/Fpr/Windows 11 Home/Ms Office, 14-Dv1029Tu,Natural Silver', 'Acer Aspire 5 Gaming', 'Intel Core i7 13th Gen (8 GB/512 GB SSD/Windows 11 Home/4 GB Graphics/NVIDIA GeForce RTX 2050) A514-56GM,14\" WUXGA Display, 1.56 KG']\n",
      "['2', '19', '1', '25', '5', '74', '181', '135', '5', '2']\n",
      "['86,420', '93,990', '1,44,990', '79,990', '80,990', '62,990', '80,990', '66,663', '96,490', '76,990']\n"
     ]
    }
   ],
   "source": [
    "tilte_tag = driver.find_elements(By.XPATH,'//span[@class=\"a-size-medium a-color-base a-text-normal\"]')\n",
    "for i in tilte_tag[0:10]:\n",
    "    ftitle=i.text\n",
    "    title.append(ftitle)\n",
    "    \n",
    "ratings_tag = driver.find_elements(By.XPATH,'//span[@class=\"a-size-base s-underline-text\"]')\n",
    "for i in ratings_tag[0:10]:\n",
    "    rate=i.text\n",
    "    Ratings.append(rate)\n",
    "    \n",
    "price_tag = driver.find_elements(By.XPATH,'//span[@class=\"a-price-whole\"]')\n",
    "for i in price_tag[0:10]:\n",
    "    pricess=i.text\n",
    "    Price.append(pricess)\n",
    "    \n",
    "print(title)\n",
    "print(Ratings)\n",
    "print(Price)"
   ]
  },
  {
   "cell_type": "code",
   "execution_count": 65,
   "id": "c47f667f",
   "metadata": {},
   "outputs": [
    {
     "name": "stdout",
     "output_type": "stream",
     "text": [
      "10 10 10\n"
     ]
    }
   ],
   "source": [
    "print(len(title),len(Ratings),len(Price))"
   ]
  },
  {
   "cell_type": "code",
   "execution_count": 66,
   "id": "0d283364",
   "metadata": {},
   "outputs": [
    {
     "data": {
      "text/html": [
       "<div>\n",
       "<style scoped>\n",
       "    .dataframe tbody tr th:only-of-type {\n",
       "        vertical-align: middle;\n",
       "    }\n",
       "\n",
       "    .dataframe tbody tr th {\n",
       "        vertical-align: top;\n",
       "    }\n",
       "\n",
       "    .dataframe thead th {\n",
       "        text-align: right;\n",
       "    }\n",
       "</style>\n",
       "<table border=\"1\" class=\"dataframe\">\n",
       "  <thead>\n",
       "    <tr style=\"text-align: right;\">\n",
       "      <th></th>\n",
       "      <th>Title</th>\n",
       "      <th>Ratings</th>\n",
       "      <th>Price</th>\n",
       "    </tr>\n",
       "  </thead>\n",
       "  <tbody>\n",
       "    <tr>\n",
       "      <th>0</th>\n",
       "      <td>Dell Inspiron 5430 13th Gen</td>\n",
       "      <td>2</td>\n",
       "      <td>86,420</td>\n",
       "    </tr>\n",
       "    <tr>\n",
       "      <th>1</th>\n",
       "      <td>, Intel i7-1360P/16GB/1TB SSD/14.0\" (35.56CMs)...</td>\n",
       "      <td>19</td>\n",
       "      <td>93,990</td>\n",
       "    </tr>\n",
       "    <tr>\n",
       "      <th>2</th>\n",
       "      <td>Lenovo ThinkPad E14 Intel Core i7 12th Gen 14\"...</td>\n",
       "      <td>1</td>\n",
       "      <td>1,44,990</td>\n",
       "    </tr>\n",
       "    <tr>\n",
       "      <th>3</th>\n",
       "      <td>(16GB RAM/512GB SSD/Windows 11 Home/MS Office ...</td>\n",
       "      <td>25</td>\n",
       "      <td>79,990</td>\n",
       "    </tr>\n",
       "    <tr>\n",
       "      <th>4</th>\n",
       "      <td>ASUS ROG Zephyrus G16, 16-inch (40.64 cms) FHD...</td>\n",
       "      <td>5</td>\n",
       "      <td>80,990</td>\n",
       "    </tr>\n",
       "    <tr>\n",
       "      <th>5</th>\n",
       "      <td></td>\n",
       "      <td>74</td>\n",
       "      <td>62,990</td>\n",
       "    </tr>\n",
       "    <tr>\n",
       "      <th>6</th>\n",
       "      <td>HP Pavilion 14, 11Th Gen Intel Core I7-16Gb Ra...</td>\n",
       "      <td>181</td>\n",
       "      <td>80,990</td>\n",
       "    </tr>\n",
       "    <tr>\n",
       "      <th>7</th>\n",
       "      <td>/Intel Iris Xe Graphics/Backlit Keyboard/Alexa...</td>\n",
       "      <td>135</td>\n",
       "      <td>66,663</td>\n",
       "    </tr>\n",
       "    <tr>\n",
       "      <th>8</th>\n",
       "      <td>Acer Aspire 5 Gaming</td>\n",
       "      <td>5</td>\n",
       "      <td>96,490</td>\n",
       "    </tr>\n",
       "    <tr>\n",
       "      <th>9</th>\n",
       "      <td>Intel Core i7 13th Gen (8 GB/512 GB SSD/Window...</td>\n",
       "      <td>2</td>\n",
       "      <td>76,990</td>\n",
       "    </tr>\n",
       "  </tbody>\n",
       "</table>\n",
       "</div>"
      ],
      "text/plain": [
       "                                               Title Ratings     Price\n",
       "0                        Dell Inspiron 5430 13th Gen       2    86,420\n",
       "1  , Intel i7-1360P/16GB/1TB SSD/14.0\" (35.56CMs)...      19    93,990\n",
       "2  Lenovo ThinkPad E14 Intel Core i7 12th Gen 14\"...       1  1,44,990\n",
       "3  (16GB RAM/512GB SSD/Windows 11 Home/MS Office ...      25    79,990\n",
       "4  ASUS ROG Zephyrus G16, 16-inch (40.64 cms) FHD...       5    80,990\n",
       "5                                                         74    62,990\n",
       "6  HP Pavilion 14, 11Th Gen Intel Core I7-16Gb Ra...     181    80,990\n",
       "7  /Intel Iris Xe Graphics/Backlit Keyboard/Alexa...     135    66,663\n",
       "8                               Acer Aspire 5 Gaming       5    96,490\n",
       "9  Intel Core i7 13th Gen (8 GB/512 GB SSD/Window...       2    76,990"
      ]
     },
     "execution_count": 66,
     "metadata": {},
     "output_type": "execute_result"
    }
   ],
   "source": [
    "import pandas as pd\n",
    "df=pd.DataFrame({'Title':title,'Ratings':Ratings,'Price':Price})\n",
    "df"
   ]
  },
  {
   "cell_type": "markdown",
   "id": "d266b368",
   "metadata": {},
   "source": [
    "# Q8: Write a python program to scrape data for Top 1000 Quotes of All Time.\n",
    "The above task will be done in following steps:"
   ]
  },
  {
   "cell_type": "code",
   "execution_count": 76,
   "id": "ab765be2",
   "metadata": {},
   "outputs": [],
   "source": [
    "import selenium                                  #library that is used to work with selenium\n",
    "\n",
    "from selenium import webdriver                   #importing webdriver module from selenium to open automated chrome window\n",
    "\n",
    "import pandas as pd                              #to create DataFrame\n",
    "\n",
    "from selenium.webdriver.common.by import By      #importing inbuilt class By \n",
    "\n",
    "import warnings                                  #to ignore any sort of warning\n",
    "\n",
    "warnings.filterwarnings(\"ignore\")\n",
    "\n",
    "import time                                      #use to stop search engine for few seconds\n",
    "\n",
    "\n",
    "\n",
    "driver = webdriver.Chrome()\n",
    "\n",
    "driver.get('https://www.azquotes.com/')"
   ]
  },
  {
   "cell_type": "code",
   "execution_count": 77,
   "id": "7a6204d8",
   "metadata": {},
   "outputs": [],
   "source": [
    "clickss= driver.find_element(By.XPATH,'/html/body/div[1]/div[1]/div[1]/div/div[3]/ul/li[5]')\n",
    "clickss.click()"
   ]
  },
  {
   "cell_type": "code",
   "execution_count": 78,
   "id": "d3a77c1d",
   "metadata": {},
   "outputs": [],
   "source": [
    "Quote = [] \n",
    "Author = []\n",
    "Type_Of_Quotes= []"
   ]
  },
  {
   "cell_type": "code",
   "execution_count": 79,
   "id": "666b5c8b",
   "metadata": {},
   "outputs": [],
   "source": [
    "start = 0\n",
    "end = 10\n",
    "\n",
    "for page in range(start,end):\n",
    "    qoute_tag = driver.find_elements(By.XPATH,'//a[@class=\"title\"]')\n",
    "    for i in qoute_tag[0:1000]:\n",
    "        Quote.append(i.text)\n",
    "        \n",
    "    author_tag = driver.find_elements(By.XPATH,'//div[@class=\"author\"]')\n",
    "    for i in author_tag[0:1000]:\n",
    "        Author.append(i.text)\n",
    "        \n",
    "    type_of_quotes = driver.find_elements(By.XPATH,'//div[@class=\"tags\"]')\n",
    "    for i in type_of_quotes[0:1000]:\n",
    "        Type_Of_Quotes.append(i.text)\n",
    "        \n",
    "    next_button = driver.find_element(By.XPATH,'/html/body/div[1]/div[2]/div/div/div/div[1]/div/div[3]/li[12]')\n",
    "    next_button.click()\n",
    "    time.sleep(4)\n",
    "        \n",
    "    "
   ]
  },
  {
   "cell_type": "code",
   "execution_count": 81,
   "id": "da1e4b92",
   "metadata": {},
   "outputs": [
    {
     "name": "stdout",
     "output_type": "stream",
     "text": [
      "1000 1000 1000\n"
     ]
    }
   ],
   "source": [
    "print(len(Quote),len(Author),len(Type_Of_Quotes))"
   ]
  },
  {
   "cell_type": "code",
   "execution_count": 82,
   "id": "f483ddb1",
   "metadata": {},
   "outputs": [
    {
     "data": {
      "text/html": [
       "<div>\n",
       "<style scoped>\n",
       "    .dataframe tbody tr th:only-of-type {\n",
       "        vertical-align: middle;\n",
       "    }\n",
       "\n",
       "    .dataframe tbody tr th {\n",
       "        vertical-align: top;\n",
       "    }\n",
       "\n",
       "    .dataframe thead th {\n",
       "        text-align: right;\n",
       "    }\n",
       "</style>\n",
       "<table border=\"1\" class=\"dataframe\">\n",
       "  <thead>\n",
       "    <tr style=\"text-align: right;\">\n",
       "      <th></th>\n",
       "      <th>Quote</th>\n",
       "      <th>Author</th>\n",
       "      <th>Type_Of_Quotes</th>\n",
       "    </tr>\n",
       "  </thead>\n",
       "  <tbody>\n",
       "    <tr>\n",
       "      <th>0</th>\n",
       "      <td>The essence of strategy is choosing what not t...</td>\n",
       "      <td>Michael Porter</td>\n",
       "      <td>Essence, Deep Thought, Transcendentalism</td>\n",
       "    </tr>\n",
       "    <tr>\n",
       "      <th>1</th>\n",
       "      <td>One cannot and must not try to erase the past ...</td>\n",
       "      <td>Golda Meir</td>\n",
       "      <td>Inspiration, Past, Trying</td>\n",
       "    </tr>\n",
       "    <tr>\n",
       "      <th>2</th>\n",
       "      <td>Patriotism means to stand by the country. It d...</td>\n",
       "      <td>Theodore Roosevelt</td>\n",
       "      <td>Country, Peace, War</td>\n",
       "    </tr>\n",
       "    <tr>\n",
       "      <th>3</th>\n",
       "      <td>Death is something inevitable. When a man has ...</td>\n",
       "      <td>Nelson Mandela</td>\n",
       "      <td>Inspirational, Motivational, Death</td>\n",
       "    </tr>\n",
       "    <tr>\n",
       "      <th>4</th>\n",
       "      <td>You have to love a nation that celebrates its ...</td>\n",
       "      <td>Erma Bombeck</td>\n",
       "      <td>4th Of July, Food, Patriotic</td>\n",
       "    </tr>\n",
       "    <tr>\n",
       "      <th>...</th>\n",
       "      <td>...</td>\n",
       "      <td>...</td>\n",
       "      <td>...</td>\n",
       "    </tr>\n",
       "    <tr>\n",
       "      <th>995</th>\n",
       "      <td>Regret for the things we did can be tempered b...</td>\n",
       "      <td>Sydney J. Harris</td>\n",
       "      <td>Love, Inspirational, Motivational</td>\n",
       "    </tr>\n",
       "    <tr>\n",
       "      <th>996</th>\n",
       "      <td>America... just a nation of two hundred millio...</td>\n",
       "      <td>Hunter S. Thompson</td>\n",
       "      <td>Gun, Two, Qualms About</td>\n",
       "    </tr>\n",
       "    <tr>\n",
       "      <th>997</th>\n",
       "      <td>For every disciplined effort there is a multip...</td>\n",
       "      <td>Jim Rohn</td>\n",
       "      <td>Inspirational, Greatness, Best Effort</td>\n",
       "    </tr>\n",
       "    <tr>\n",
       "      <th>998</th>\n",
       "      <td>The spiritual journey is individual, highly pe...</td>\n",
       "      <td>Ram Dass</td>\n",
       "      <td>Spiritual, Truth, Yoga</td>\n",
       "    </tr>\n",
       "    <tr>\n",
       "      <th>999</th>\n",
       "      <td>The mind is not a vessel to be filled but a fi...</td>\n",
       "      <td>Plutarch</td>\n",
       "      <td>Inspirational, Leadership, Education</td>\n",
       "    </tr>\n",
       "  </tbody>\n",
       "</table>\n",
       "<p>1000 rows × 3 columns</p>\n",
       "</div>"
      ],
      "text/plain": [
       "                                                 Quote              Author  \\\n",
       "0    The essence of strategy is choosing what not t...      Michael Porter   \n",
       "1    One cannot and must not try to erase the past ...          Golda Meir   \n",
       "2    Patriotism means to stand by the country. It d...  Theodore Roosevelt   \n",
       "3    Death is something inevitable. When a man has ...      Nelson Mandela   \n",
       "4    You have to love a nation that celebrates its ...        Erma Bombeck   \n",
       "..                                                 ...                 ...   \n",
       "995  Regret for the things we did can be tempered b...    Sydney J. Harris   \n",
       "996  America... just a nation of two hundred millio...  Hunter S. Thompson   \n",
       "997  For every disciplined effort there is a multip...            Jim Rohn   \n",
       "998  The spiritual journey is individual, highly pe...            Ram Dass   \n",
       "999  The mind is not a vessel to be filled but a fi...            Plutarch   \n",
       "\n",
       "                               Type_Of_Quotes  \n",
       "0    Essence, Deep Thought, Transcendentalism  \n",
       "1                   Inspiration, Past, Trying  \n",
       "2                         Country, Peace, War  \n",
       "3          Inspirational, Motivational, Death  \n",
       "4                4th Of July, Food, Patriotic  \n",
       "..                                        ...  \n",
       "995         Love, Inspirational, Motivational  \n",
       "996                    Gun, Two, Qualms About  \n",
       "997     Inspirational, Greatness, Best Effort  \n",
       "998                    Spiritual, Truth, Yoga  \n",
       "999      Inspirational, Leadership, Education  \n",
       "\n",
       "[1000 rows x 3 columns]"
      ]
     },
     "execution_count": 82,
     "metadata": {},
     "output_type": "execute_result"
    }
   ],
   "source": [
    "import pandas as pd\n",
    "df = pd.DataFrame({'Quote':Quote,'Author':Author,'Type_Of_Quotes':Type_Of_Quotes})\n",
    "df"
   ]
  },
  {
   "cell_type": "markdown",
   "id": "7811b09e",
   "metadata": {},
   "source": [
    "# Q9: Write a python program to display list of respected former Prime Ministers of India(i.e. Name, Born-Dead, \n",
    "Term of office, Remarks) from https://www.jagranjosh.com/."
   ]
  },
  {
   "cell_type": "code",
   "execution_count": 156,
   "id": "5b7f274b",
   "metadata": {},
   "outputs": [],
   "source": [
    "import selenium \n",
    "from selenium import webdriver\n",
    "import pandas as pd\n",
    "from selenium.webdriver.common.by import By\n",
    "import warnings\n",
    "warnings.filterwarnings(\"ignore\")\n",
    "driver = webdriver.Chrome()\n",
    "driver.get(' https://www.jagranjosh.com/')"
   ]
  },
  {
   "cell_type": "code",
   "execution_count": 157,
   "id": "77d60c4a",
   "metadata": {},
   "outputs": [],
   "source": [
    "gk = driver.find_element(By.XPATH,'/html/body/div[1]/div[1]/div/div[1]/div/div[5]/div/div[1]/header/div[3]/ul/li[3]')\n",
    "gk.click()"
   ]
  },
  {
   "cell_type": "code",
   "execution_count": 159,
   "id": "aca96abe",
   "metadata": {},
   "outputs": [],
   "source": [
    "prime = driver.find_element(By.XPATH,'/html/body/div[1]/div/div/div[2]/div/div[10]/div/div/ul/li[2]')\n",
    "prime.click()"
   ]
  },
  {
   "cell_type": "code",
   "execution_count": 160,
   "id": "d9ae6f25",
   "metadata": {},
   "outputs": [],
   "source": [
    "names = []\n",
    "born_dead = []\n",
    "term_of_office = []\n",
    "remarks = []"
   ]
  },
  {
   "cell_type": "code",
   "execution_count": 161,
   "id": "2e08f117",
   "metadata": {},
   "outputs": [],
   "source": [
    "prime_ministers_elements = driver.find_elements(By.TAG_NAME, 'td')\n",
    "\n",
    "# Initialize lists to store each attribute of Prime Ministers\n",
    "\n",
    "# Process the data and store each Prime Minister's details in separate lists using a for loop\n",
    "for element in prime_ministers_elements[1::5]:\n",
    "    names.append(element.text)\n",
    "\n",
    "for element in prime_ministers_elements[2::5]:\n",
    "    born_dead.append(element.text)\n",
    "\n",
    "for element in prime_ministers_elements[3::5]:\n",
    "    term_of_office.append(element.text)\n",
    "\n",
    "for element in prime_ministers_elements[4::5]:\n",
    "    remarks.append(element.text)"
   ]
  },
  {
   "cell_type": "code",
   "execution_count": 163,
   "id": "e29bbb1a",
   "metadata": {},
   "outputs": [
    {
     "name": "stdout",
     "output_type": "stream",
     "text": [
      "20 19 19 19\n"
     ]
    }
   ],
   "source": [
    "print(len(names),len(born_dead),len(term_of_office),len(remarks))"
   ]
  },
  {
   "cell_type": "code",
   "execution_count": 170,
   "id": "dc6cfa4f",
   "metadata": {},
   "outputs": [
    {
     "data": {
      "text/plain": [
       "'List of Nicknames of Indian Prime Ministers'"
      ]
     },
     "execution_count": 170,
     "metadata": {},
     "output_type": "execute_result"
    }
   ],
   "source": [
    "names.pop()"
   ]
  },
  {
   "cell_type": "code",
   "execution_count": 171,
   "id": "26d30549",
   "metadata": {},
   "outputs": [
    {
     "name": "stdout",
     "output_type": "stream",
     "text": [
      "19 19 19 19\n"
     ]
    }
   ],
   "source": [
    "print(len(names),len(born_dead),len(term_of_office),len(remarks))"
   ]
  },
  {
   "cell_type": "code",
   "execution_count": 172,
   "id": "3213ad58",
   "metadata": {},
   "outputs": [
    {
     "data": {
      "text/html": [
       "<div>\n",
       "<style scoped>\n",
       "    .dataframe tbody tr th:only-of-type {\n",
       "        vertical-align: middle;\n",
       "    }\n",
       "\n",
       "    .dataframe tbody tr th {\n",
       "        vertical-align: top;\n",
       "    }\n",
       "\n",
       "    .dataframe thead th {\n",
       "        text-align: right;\n",
       "    }\n",
       "</style>\n",
       "<table border=\"1\" class=\"dataframe\">\n",
       "  <thead>\n",
       "    <tr style=\"text-align: right;\">\n",
       "      <th></th>\n",
       "      <th>Name</th>\n",
       "      <th>Born</th>\n",
       "      <th>term</th>\n",
       "      <th>Remarks</th>\n",
       "    </tr>\n",
       "  </thead>\n",
       "  <tbody>\n",
       "    <tr>\n",
       "      <th>0</th>\n",
       "      <td>Jawahar Lal Nehru</td>\n",
       "      <td>(1889–1964)</td>\n",
       "      <td>15 August 1947 to 27 May 1964\\n16 years, 286 days</td>\n",
       "      <td>The first prime minister of India and the long...</td>\n",
       "    </tr>\n",
       "    <tr>\n",
       "      <th>1</th>\n",
       "      <td>Gulzarilal Nanda (Acting)</td>\n",
       "      <td>(1898-1998)</td>\n",
       "      <td>27 May 1964 to 9 June 1964,\\n13 days</td>\n",
       "      <td>First acting PM of India</td>\n",
       "    </tr>\n",
       "    <tr>\n",
       "      <th>2</th>\n",
       "      <td>Lal Bahadur Shastri</td>\n",
       "      <td>(1904–1966)</td>\n",
       "      <td>9 June 1964 to 11 January 1966\\n1 year, 216 days</td>\n",
       "      <td>He has given the slogan of 'Jai Jawan Jai Kisa...</td>\n",
       "    </tr>\n",
       "    <tr>\n",
       "      <th>3</th>\n",
       "      <td>Gulzari Lal Nanda  (Acting)</td>\n",
       "      <td>(1898-1998)</td>\n",
       "      <td>11 January 1966 to 24 January 1966\\n13 days</td>\n",
       "      <td>-</td>\n",
       "    </tr>\n",
       "    <tr>\n",
       "      <th>4</th>\n",
       "      <td>Indira Gandhi</td>\n",
       "      <td>(1917–1984)</td>\n",
       "      <td>24 January 1966 to 24 March 1977\\n11 years, 59...</td>\n",
       "      <td>First female Prime Minister of India</td>\n",
       "    </tr>\n",
       "    <tr>\n",
       "      <th>5</th>\n",
       "      <td>Morarji Desai</td>\n",
       "      <td>(1896–1995)</td>\n",
       "      <td>24 March 1977 to  28 July 1979 \\n2 year, 126 days</td>\n",
       "      <td>Oldest to become PM (81 years old) and first t...</td>\n",
       "    </tr>\n",
       "    <tr>\n",
       "      <th>6</th>\n",
       "      <td>Charan Singh</td>\n",
       "      <td>(1902–1987)</td>\n",
       "      <td>28 July 1979 to 14 January 1980\\n170 days</td>\n",
       "      <td>Only PM who did not face the Parliament</td>\n",
       "    </tr>\n",
       "    <tr>\n",
       "      <th>7</th>\n",
       "      <td>Indira Gandhi</td>\n",
       "      <td>(1917–1984)</td>\n",
       "      <td>14 January 1980 to 31 October 1984\\n4 years, 2...</td>\n",
       "      <td>The first lady who served as PM for the second...</td>\n",
       "    </tr>\n",
       "    <tr>\n",
       "      <th>8</th>\n",
       "      <td>Rajiv Gandhi</td>\n",
       "      <td>(1944–1991)</td>\n",
       "      <td>31 October 1984 to 2 December 1989\\n5 years, 3...</td>\n",
       "      <td>Youngest to become PM (40 years old)</td>\n",
       "    </tr>\n",
       "    <tr>\n",
       "      <th>9</th>\n",
       "      <td>V. P. Singh</td>\n",
       "      <td>(1931–2008)</td>\n",
       "      <td>2 December 1989 to 10 November 1990\\n343 days</td>\n",
       "      <td>First PM to step down after a vote of no confi...</td>\n",
       "    </tr>\n",
       "    <tr>\n",
       "      <th>10</th>\n",
       "      <td>Chandra Shekhar</td>\n",
       "      <td>(1927–2007)</td>\n",
       "      <td>10 November 1990 to 21 June 1991\\n223 days</td>\n",
       "      <td>He belongs to  Samajwadi Janata Party</td>\n",
       "    </tr>\n",
       "    <tr>\n",
       "      <th>11</th>\n",
       "      <td>P. V. Narasimha Rao</td>\n",
       "      <td>(1921–2004)</td>\n",
       "      <td>21 June 1991 to 16 May 1996\\n4 years, 330 days</td>\n",
       "      <td>First PM from South India</td>\n",
       "    </tr>\n",
       "    <tr>\n",
       "      <th>12</th>\n",
       "      <td>Atal Bihari Vajpayee</td>\n",
       "      <td>(1924- 2018)</td>\n",
       "      <td>16 May 1996 to 1 June 1996\\n16 days</td>\n",
       "      <td>PM for shortest tenure</td>\n",
       "    </tr>\n",
       "    <tr>\n",
       "      <th>13</th>\n",
       "      <td>H. D. Deve Gowda</td>\n",
       "      <td>(born 1933)</td>\n",
       "      <td>1 June 1996 to 21 April 1997\\n324 days</td>\n",
       "      <td>He belongs to  Janata Dal</td>\n",
       "    </tr>\n",
       "    <tr>\n",
       "      <th>14</th>\n",
       "      <td>Inder Kumar Gujral</td>\n",
       "      <td>(1919–2012)</td>\n",
       "      <td>21 April 1997 to 19 March 1998 \\n332 days</td>\n",
       "      <td>------</td>\n",
       "    </tr>\n",
       "    <tr>\n",
       "      <th>15</th>\n",
       "      <td>Atal Bihari Vajpayee</td>\n",
       "      <td>(1924-2018)</td>\n",
       "      <td>19 March 1998 to 22 May 2004 \\n6 years, 64 days</td>\n",
       "      <td>The first non-congress PM who completed a ful...</td>\n",
       "    </tr>\n",
       "    <tr>\n",
       "      <th>16</th>\n",
       "      <td>Manmohan Singh</td>\n",
       "      <td>(born 1932)</td>\n",
       "      <td>22 May 2004 to 26 May 2014   \\n10 years, 4 days</td>\n",
       "      <td>First Sikh PM</td>\n",
       "    </tr>\n",
       "    <tr>\n",
       "      <th>17</th>\n",
       "      <td>Narendra Modi</td>\n",
       "      <td>(born 1950)</td>\n",
       "      <td>26 May 2014 - 2019</td>\n",
       "      <td>4th Prime Minister of India who served two con...</td>\n",
       "    </tr>\n",
       "    <tr>\n",
       "      <th>18</th>\n",
       "      <td>Narendra Modi</td>\n",
       "      <td>(born 1950)</td>\n",
       "      <td>30 May 2019- Incumbent</td>\n",
       "      <td>First non-congress PM with two consecutive ten...</td>\n",
       "    </tr>\n",
       "  </tbody>\n",
       "</table>\n",
       "</div>"
      ],
      "text/plain": [
       "                           Name          Born  \\\n",
       "0             Jawahar Lal Nehru   (1889–1964)   \n",
       "1     Gulzarilal Nanda (Acting)   (1898-1998)   \n",
       "2           Lal Bahadur Shastri   (1904–1966)   \n",
       "3   Gulzari Lal Nanda  (Acting)   (1898-1998)   \n",
       "4                 Indira Gandhi   (1917–1984)   \n",
       "5                 Morarji Desai   (1896–1995)   \n",
       "6                  Charan Singh   (1902–1987)   \n",
       "7                 Indira Gandhi   (1917–1984)   \n",
       "8                  Rajiv Gandhi   (1944–1991)   \n",
       "9                   V. P. Singh   (1931–2008)   \n",
       "10              Chandra Shekhar   (1927–2007)   \n",
       "11          P. V. Narasimha Rao   (1921–2004)   \n",
       "12         Atal Bihari Vajpayee  (1924- 2018)   \n",
       "13             H. D. Deve Gowda   (born 1933)   \n",
       "14           Inder Kumar Gujral   (1919–2012)   \n",
       "15         Atal Bihari Vajpayee   (1924-2018)   \n",
       "16               Manmohan Singh   (born 1932)   \n",
       "17                Narendra Modi   (born 1950)   \n",
       "18                Narendra Modi   (born 1950)   \n",
       "\n",
       "                                                 term  \\\n",
       "0   15 August 1947 to 27 May 1964\\n16 years, 286 days   \n",
       "1                27 May 1964 to 9 June 1964,\\n13 days   \n",
       "2    9 June 1964 to 11 January 1966\\n1 year, 216 days   \n",
       "3         11 January 1966 to 24 January 1966\\n13 days   \n",
       "4   24 January 1966 to 24 March 1977\\n11 years, 59...   \n",
       "5   24 March 1977 to  28 July 1979 \\n2 year, 126 days   \n",
       "6           28 July 1979 to 14 January 1980\\n170 days   \n",
       "7   14 January 1980 to 31 October 1984\\n4 years, 2...   \n",
       "8   31 October 1984 to 2 December 1989\\n5 years, 3...   \n",
       "9       2 December 1989 to 10 November 1990\\n343 days   \n",
       "10         10 November 1990 to 21 June 1991\\n223 days   \n",
       "11     21 June 1991 to 16 May 1996\\n4 years, 330 days   \n",
       "12                16 May 1996 to 1 June 1996\\n16 days   \n",
       "13             1 June 1996 to 21 April 1997\\n324 days   \n",
       "14          21 April 1997 to 19 March 1998 \\n332 days   \n",
       "15    19 March 1998 to 22 May 2004 \\n6 years, 64 days   \n",
       "16    22 May 2004 to 26 May 2014   \\n10 years, 4 days   \n",
       "17                                 26 May 2014 - 2019   \n",
       "18                             30 May 2019- Incumbent   \n",
       "\n",
       "                                              Remarks  \n",
       "0   The first prime minister of India and the long...  \n",
       "1                            First acting PM of India  \n",
       "2   He has given the slogan of 'Jai Jawan Jai Kisa...  \n",
       "3                                                   -  \n",
       "4                First female Prime Minister of India  \n",
       "5   Oldest to become PM (81 years old) and first t...  \n",
       "6             Only PM who did not face the Parliament  \n",
       "7   The first lady who served as PM for the second...  \n",
       "8                Youngest to become PM (40 years old)  \n",
       "9   First PM to step down after a vote of no confi...  \n",
       "10              He belongs to  Samajwadi Janata Party  \n",
       "11                          First PM from South India  \n",
       "12                             PM for shortest tenure  \n",
       "13                          He belongs to  Janata Dal  \n",
       "14                                             ------  \n",
       "15   The first non-congress PM who completed a ful...  \n",
       "16                                      First Sikh PM  \n",
       "17  4th Prime Minister of India who served two con...  \n",
       "18  First non-congress PM with two consecutive ten...  "
      ]
     },
     "execution_count": 172,
     "metadata": {},
     "output_type": "execute_result"
    }
   ],
   "source": [
    "import pandas as pd\n",
    "df=pd.DataFrame({'Name':names,'Born':born_dead,'term':term_of_office,'Remarks':remarks})\n",
    "df"
   ]
  },
  {
   "cell_type": "code",
   "execution_count": null,
   "id": "1570bd77",
   "metadata": {},
   "outputs": [],
   "source": []
  },
  {
   "cell_type": "markdown",
   "id": "e76e7317",
   "metadata": {},
   "source": [
    "# question 10 Write a python program to display list of 50 Most expensive cars in the world (i.e. \n",
    "Car name and Price) from https://www.motor1.com/"
   ]
  },
  {
   "cell_type": "code",
   "execution_count": 1,
   "id": "68c0f386",
   "metadata": {},
   "outputs": [
    {
     "name": "stdout",
     "output_type": "stream",
     "text": [
      "Requirement already satisfied: selenium in c:\\users\\admin\\anaconda3\\lib\\site-packages (4.10.0)\n",
      "Requirement already satisfied: certifi>=2021.10.8 in c:\\users\\admin\\anaconda3\\lib\\site-packages (from selenium) (2022.9.14)\n",
      "Requirement already satisfied: urllib3[socks]<3,>=1.26 in c:\\users\\admin\\anaconda3\\lib\\site-packages (from selenium) (1.26.11)\n",
      "Requirement already satisfied: trio-websocket~=0.9 in c:\\users\\admin\\anaconda3\\lib\\site-packages (from selenium) (0.10.3)\n",
      "Requirement already satisfied: trio~=0.17 in c:\\users\\admin\\anaconda3\\lib\\site-packages (from selenium) (0.22.2)\n",
      "Requirement already satisfied: attrs>=20.1.0 in c:\\users\\admin\\anaconda3\\lib\\site-packages (from trio~=0.17->selenium) (21.4.0)\n",
      "Requirement already satisfied: sniffio in c:\\users\\admin\\anaconda3\\lib\\site-packages (from trio~=0.17->selenium) (1.2.0)\n",
      "Requirement already satisfied: idna in c:\\users\\admin\\anaconda3\\lib\\site-packages (from trio~=0.17->selenium) (3.3)\n",
      "Requirement already satisfied: sortedcontainers in c:\\users\\admin\\anaconda3\\lib\\site-packages (from trio~=0.17->selenium) (2.4.0)\n",
      "Requirement already satisfied: exceptiongroup>=1.0.0rc9 in c:\\users\\admin\\anaconda3\\lib\\site-packages (from trio~=0.17->selenium) (1.1.2)\n",
      "Requirement already satisfied: outcome in c:\\users\\admin\\anaconda3\\lib\\site-packages (from trio~=0.17->selenium) (1.2.0)\n",
      "Requirement already satisfied: cffi>=1.14 in c:\\users\\admin\\anaconda3\\lib\\site-packages (from trio~=0.17->selenium) (1.15.1)\n",
      "Requirement already satisfied: wsproto>=0.14 in c:\\users\\admin\\anaconda3\\lib\\site-packages (from trio-websocket~=0.9->selenium) (1.2.0)\n",
      "Requirement already satisfied: PySocks!=1.5.7,<2.0,>=1.5.6 in c:\\users\\admin\\anaconda3\\lib\\site-packages (from urllib3[socks]<3,>=1.26->selenium) (1.7.1)\n",
      "Requirement already satisfied: pycparser in c:\\users\\admin\\anaconda3\\lib\\site-packages (from cffi>=1.14->trio~=0.17->selenium) (2.21)\n",
      "Requirement already satisfied: h11<1,>=0.9.0 in c:\\users\\admin\\anaconda3\\lib\\site-packages (from wsproto>=0.14->trio-websocket~=0.9->selenium) (0.14.0)\n"
     ]
    }
   ],
   "source": [
    "!pip install selenium\n",
    "\n",
    "# Let's import all required libraries\n",
    "\n",
    "import selenium                                  #library that is used to work with selenium\n",
    "\n",
    "from selenium import webdriver                   #importing webdriver module from selenium to open automated chrome window\n",
    "\n",
    "import pandas as pd                              #to create DataFrame\n",
    "\n",
    "from selenium.webdriver.common.by import By      #importing inbuilt class By \n",
    "\n",
    "import warnings                                  #to ignore any sort of warning\n",
    "\n",
    "warnings.filterwarnings(\"ignore\")\n",
    "\n",
    "import time                                      #use to stop search engine for few seconds\n",
    "\n",
    "\n",
    "\n",
    "driver = webdriver.Chrome()\n"
   ]
  },
  {
   "cell_type": "code",
   "execution_count": 2,
   "id": "80aa2338",
   "metadata": {},
   "outputs": [],
   "source": [
    "driver.get(\"https://www.motor1.com/\")"
   ]
  },
  {
   "cell_type": "code",
   "execution_count": 3,
   "id": "846a8730",
   "metadata": {},
   "outputs": [],
   "source": [
    "price = driver.find_element(By.XPATH,'//input[@class=\"m1-search-panel-input m1-search-form-text\"]')\n",
    "price.send_keys(' 50 Most expensive cars in the world')"
   ]
  },
  {
   "cell_type": "code",
   "execution_count": 4,
   "id": "b3da94af",
   "metadata": {},
   "outputs": [],
   "source": [
    "search = driver.find_element(By.XPATH,'//button[@class=\"m1-search-panel-button m1-search-form-button-animate icon-search-svg\"]')\n",
    "search.click()"
   ]
  },
  {
   "cell_type": "code",
   "execution_count": 5,
   "id": "b1042fd3",
   "metadata": {},
   "outputs": [],
   "source": [
    "search = driver.find_element(By.XPATH,'//span[@class=\"play-button-svg absolute-centered\"]')\n",
    "search.click()"
   ]
  },
  {
   "cell_type": "code",
   "execution_count": 6,
   "id": "5fec4984",
   "metadata": {},
   "outputs": [],
   "source": [
    "car_name=[]\n",
    "car_price=[]"
   ]
  },
  {
   "cell_type": "code",
   "execution_count": 7,
   "id": "9955f614",
   "metadata": {},
   "outputs": [],
   "source": [
    "car_tag = driver.find_elements(By.XPATH,'//h3[@class=\"subheader\"]')\n",
    "for i in car_tag[0:50]:\n",
    "    car=i.text\n",
    "    car_name.append(car)\n",
    "    \n"
   ]
  },
  {
   "cell_type": "code",
   "execution_count": 8,
   "id": "d5a67e76",
   "metadata": {},
   "outputs": [],
   "source": [
    "price_tag=driver.find_elements(By.TAG_NAME,'strong')\n",
    "for i in price_tag[0:51]:\n",
    "    prices = i.text.split(\"Price: \")[-1]\n",
    "    car_price.append(prices)"
   ]
  },
  {
   "cell_type": "code",
   "execution_count": 9,
   "id": "b1e6f0ea",
   "metadata": {},
   "outputs": [
    {
     "data": {
      "text/plain": [
       "['De Tomaso P72',\n",
       " 'Ferrari LaFerrari',\n",
       " 'Pagani Huayra',\n",
       " 'McLaren Elva',\n",
       " 'Czinger 21C',\n",
       " 'Ferrari Monza',\n",
       " 'Gordon Murray T.33',\n",
       " 'Koenigsegg Gemera',\n",
       " 'Zenvo TSR-S',\n",
       " 'Hennessey Venom F5',\n",
       " 'Bentley Bacalar',\n",
       " 'Hispano Suiza Carmen Boulogne',\n",
       " 'Bentley Mulliner Batur',\n",
       " 'Deus Vayanne',\n",
       " 'SSC Tuatara',\n",
       " 'Lotus Evija',\n",
       " 'Aston Martin Vulcan',\n",
       " 'Delage D12',\n",
       " 'McLaren Speedtail',\n",
       " 'Rimac Nevera',\n",
       " 'Pagani Utopia',\n",
       " 'Pininfarina Battista',\n",
       " 'Ferrari FXX K Evo',\n",
       " 'Gordon Murray T.50',\n",
       " 'Lamborghini Countach',\n",
       " 'Mercedes-AMG Project One',\n",
       " 'Aston Martin Victor',\n",
       " 'Hennessey Venom F5 Roadster',\n",
       " 'Koenigsegg Jesko',\n",
       " 'Aston Martin Valkyrie',\n",
       " 'W Motors Lykan Hypersport',\n",
       " 'McLaren Solus',\n",
       " 'Pagani Huayra Roadster BC',\n",
       " 'Bugatti Chiron Pur Sport',\n",
       " 'Lamborghini Sian',\n",
       " 'Koenigsegg CC850',\n",
       " 'Bugatti Chiron Super Sport 300+',\n",
       " 'Lamborghini Veneno',\n",
       " 'Bugatti Bolide',\n",
       " 'Bugatti Mistral',\n",
       " 'Pagani Huayra Imola',\n",
       " 'Bugatti Divo',\n",
       " 'SP Automotive Chaos',\n",
       " 'Pagani Codalunga',\n",
       " 'Mercedes-Maybach Exelero',\n",
       " 'Bugatti Centodieci',\n",
       " 'Bugatti Chiron Profilée',\n",
       " 'Rolls-Royce Sweptail',\n",
       " 'Bugatti La Voiture Noire',\n",
       " 'Rolls-Royce Boat Tail*']"
      ]
     },
     "execution_count": 9,
     "metadata": {},
     "output_type": "execute_result"
    }
   ],
   "source": [
    "car_name"
   ]
  },
  {
   "cell_type": "code",
   "execution_count": 10,
   "id": "50f4788c",
   "metadata": {},
   "outputs": [
    {
     "data": {
      "text/plain": [
       "50"
      ]
     },
     "execution_count": 10,
     "metadata": {},
     "output_type": "execute_result"
    }
   ],
   "source": [
    "len(car_name)"
   ]
  },
  {
   "cell_type": "code",
   "execution_count": 11,
   "id": "15ff436c",
   "metadata": {},
   "outputs": [
    {
     "data": {
      "text/plain": [
       "['$1.3 Million',\n",
       " '$1.4 Million',\n",
       " '$1.4 Million',\n",
       " '',\n",
       " '$1.7 Million',\n",
       " '$1.7 Million',\n",
       " '$1.7 Million',\n",
       " '$1.7 Million',\n",
       " '$1.7 Million',\n",
       " '$1.7 Million',\n",
       " '$1.8 Million',\n",
       " '$1.9 Million',\n",
       " '$1.9 Million',\n",
       " '$2.0 Million',\n",
       " '$2.0 Million',\n",
       " '$2.0 Million*',\n",
       " '$2.1 Million',\n",
       " '$2.3 Million',\n",
       " '$2.3 Million',\n",
       " '$2.3 Million',\n",
       " '$2.4 Million',\n",
       " '$2.5 Million',\n",
       " '$2.5 Million',\n",
       " '$2.6 Million',\n",
       " '$2.6 Million',\n",
       " '$2.6 Million',\n",
       " '$2.7 Million',\n",
       " '$3.0 Million',\n",
       " '$3.0 Million',\n",
       " '$3.0 Million',\n",
       " '$3.2 Million',\n",
       " '$3.4 Million',\n",
       " '$3.5 Million',\n",
       " '$3.5 Million',\n",
       " '$3.6 Million',\n",
       " '$3.6 million',\n",
       " '$3.7 Million',\n",
       " '$3.9 Million',\n",
       " '$4.5 Million',\n",
       " '$4.7 Million',\n",
       " '$5.0 Million',\n",
       " '$5.4 Million',\n",
       " '$5.8 Million',\n",
       " '$6.4 Million',\n",
       " '$7.4 Million',\n",
       " '$8.0 Million',\n",
       " '$9.0 Million',\n",
       " '$10.8 Million',\n",
       " '$12.8 Million',\n",
       " '$13.4 Million',\n",
       " '$28.0 Million (est.)']"
      ]
     },
     "execution_count": 11,
     "metadata": {},
     "output_type": "execute_result"
    }
   ],
   "source": [
    "car_price"
   ]
  },
  {
   "cell_type": "code",
   "execution_count": 12,
   "id": "3abf0305",
   "metadata": {},
   "outputs": [],
   "source": [
    "car_prices=car_price[0:50]"
   ]
  },
  {
   "cell_type": "code",
   "execution_count": 13,
   "id": "727f523e",
   "metadata": {},
   "outputs": [
    {
     "data": {
      "text/html": [
       "<div>\n",
       "<style scoped>\n",
       "    .dataframe tbody tr th:only-of-type {\n",
       "        vertical-align: middle;\n",
       "    }\n",
       "\n",
       "    .dataframe tbody tr th {\n",
       "        vertical-align: top;\n",
       "    }\n",
       "\n",
       "    .dataframe thead th {\n",
       "        text-align: right;\n",
       "    }\n",
       "</style>\n",
       "<table border=\"1\" class=\"dataframe\">\n",
       "  <thead>\n",
       "    <tr style=\"text-align: right;\">\n",
       "      <th></th>\n",
       "      <th>Top 50 cars</th>\n",
       "      <th>top 50 cars price</th>\n",
       "    </tr>\n",
       "  </thead>\n",
       "  <tbody>\n",
       "    <tr>\n",
       "      <th>0</th>\n",
       "      <td>De Tomaso P72</td>\n",
       "      <td>$1.3 Million</td>\n",
       "    </tr>\n",
       "    <tr>\n",
       "      <th>1</th>\n",
       "      <td>Ferrari LaFerrari</td>\n",
       "      <td>$1.4 Million</td>\n",
       "    </tr>\n",
       "    <tr>\n",
       "      <th>2</th>\n",
       "      <td>Pagani Huayra</td>\n",
       "      <td>$1.4 Million</td>\n",
       "    </tr>\n",
       "    <tr>\n",
       "      <th>3</th>\n",
       "      <td>McLaren Elva</td>\n",
       "      <td></td>\n",
       "    </tr>\n",
       "    <tr>\n",
       "      <th>4</th>\n",
       "      <td>Czinger 21C</td>\n",
       "      <td>$1.7 Million</td>\n",
       "    </tr>\n",
       "    <tr>\n",
       "      <th>5</th>\n",
       "      <td>Ferrari Monza</td>\n",
       "      <td>$1.7 Million</td>\n",
       "    </tr>\n",
       "    <tr>\n",
       "      <th>6</th>\n",
       "      <td>Gordon Murray T.33</td>\n",
       "      <td>$1.7 Million</td>\n",
       "    </tr>\n",
       "    <tr>\n",
       "      <th>7</th>\n",
       "      <td>Koenigsegg Gemera</td>\n",
       "      <td>$1.7 Million</td>\n",
       "    </tr>\n",
       "    <tr>\n",
       "      <th>8</th>\n",
       "      <td>Zenvo TSR-S</td>\n",
       "      <td>$1.7 Million</td>\n",
       "    </tr>\n",
       "    <tr>\n",
       "      <th>9</th>\n",
       "      <td>Hennessey Venom F5</td>\n",
       "      <td>$1.7 Million</td>\n",
       "    </tr>\n",
       "    <tr>\n",
       "      <th>10</th>\n",
       "      <td>Bentley Bacalar</td>\n",
       "      <td>$1.8 Million</td>\n",
       "    </tr>\n",
       "    <tr>\n",
       "      <th>11</th>\n",
       "      <td>Hispano Suiza Carmen Boulogne</td>\n",
       "      <td>$1.9 Million</td>\n",
       "    </tr>\n",
       "    <tr>\n",
       "      <th>12</th>\n",
       "      <td>Bentley Mulliner Batur</td>\n",
       "      <td>$1.9 Million</td>\n",
       "    </tr>\n",
       "    <tr>\n",
       "      <th>13</th>\n",
       "      <td>Deus Vayanne</td>\n",
       "      <td>$2.0 Million</td>\n",
       "    </tr>\n",
       "    <tr>\n",
       "      <th>14</th>\n",
       "      <td>SSC Tuatara</td>\n",
       "      <td>$2.0 Million</td>\n",
       "    </tr>\n",
       "    <tr>\n",
       "      <th>15</th>\n",
       "      <td>Lotus Evija</td>\n",
       "      <td>$2.0 Million*</td>\n",
       "    </tr>\n",
       "    <tr>\n",
       "      <th>16</th>\n",
       "      <td>Aston Martin Vulcan</td>\n",
       "      <td>$2.1 Million</td>\n",
       "    </tr>\n",
       "    <tr>\n",
       "      <th>17</th>\n",
       "      <td>Delage D12</td>\n",
       "      <td>$2.3 Million</td>\n",
       "    </tr>\n",
       "    <tr>\n",
       "      <th>18</th>\n",
       "      <td>McLaren Speedtail</td>\n",
       "      <td>$2.3 Million</td>\n",
       "    </tr>\n",
       "    <tr>\n",
       "      <th>19</th>\n",
       "      <td>Rimac Nevera</td>\n",
       "      <td>$2.3 Million</td>\n",
       "    </tr>\n",
       "    <tr>\n",
       "      <th>20</th>\n",
       "      <td>Pagani Utopia</td>\n",
       "      <td>$2.4 Million</td>\n",
       "    </tr>\n",
       "    <tr>\n",
       "      <th>21</th>\n",
       "      <td>Pininfarina Battista</td>\n",
       "      <td>$2.5 Million</td>\n",
       "    </tr>\n",
       "    <tr>\n",
       "      <th>22</th>\n",
       "      <td>Ferrari FXX K Evo</td>\n",
       "      <td>$2.5 Million</td>\n",
       "    </tr>\n",
       "    <tr>\n",
       "      <th>23</th>\n",
       "      <td>Gordon Murray T.50</td>\n",
       "      <td>$2.6 Million</td>\n",
       "    </tr>\n",
       "    <tr>\n",
       "      <th>24</th>\n",
       "      <td>Lamborghini Countach</td>\n",
       "      <td>$2.6 Million</td>\n",
       "    </tr>\n",
       "    <tr>\n",
       "      <th>25</th>\n",
       "      <td>Mercedes-AMG Project One</td>\n",
       "      <td>$2.6 Million</td>\n",
       "    </tr>\n",
       "    <tr>\n",
       "      <th>26</th>\n",
       "      <td>Aston Martin Victor</td>\n",
       "      <td>$2.7 Million</td>\n",
       "    </tr>\n",
       "    <tr>\n",
       "      <th>27</th>\n",
       "      <td>Hennessey Venom F5 Roadster</td>\n",
       "      <td>$3.0 Million</td>\n",
       "    </tr>\n",
       "    <tr>\n",
       "      <th>28</th>\n",
       "      <td>Koenigsegg Jesko</td>\n",
       "      <td>$3.0 Million</td>\n",
       "    </tr>\n",
       "    <tr>\n",
       "      <th>29</th>\n",
       "      <td>Aston Martin Valkyrie</td>\n",
       "      <td>$3.0 Million</td>\n",
       "    </tr>\n",
       "    <tr>\n",
       "      <th>30</th>\n",
       "      <td>W Motors Lykan Hypersport</td>\n",
       "      <td>$3.2 Million</td>\n",
       "    </tr>\n",
       "    <tr>\n",
       "      <th>31</th>\n",
       "      <td>McLaren Solus</td>\n",
       "      <td>$3.4 Million</td>\n",
       "    </tr>\n",
       "    <tr>\n",
       "      <th>32</th>\n",
       "      <td>Pagani Huayra Roadster BC</td>\n",
       "      <td>$3.5 Million</td>\n",
       "    </tr>\n",
       "    <tr>\n",
       "      <th>33</th>\n",
       "      <td>Bugatti Chiron Pur Sport</td>\n",
       "      <td>$3.5 Million</td>\n",
       "    </tr>\n",
       "    <tr>\n",
       "      <th>34</th>\n",
       "      <td>Lamborghini Sian</td>\n",
       "      <td>$3.6 Million</td>\n",
       "    </tr>\n",
       "    <tr>\n",
       "      <th>35</th>\n",
       "      <td>Koenigsegg CC850</td>\n",
       "      <td>$3.6 million</td>\n",
       "    </tr>\n",
       "    <tr>\n",
       "      <th>36</th>\n",
       "      <td>Bugatti Chiron Super Sport 300+</td>\n",
       "      <td>$3.7 Million</td>\n",
       "    </tr>\n",
       "    <tr>\n",
       "      <th>37</th>\n",
       "      <td>Lamborghini Veneno</td>\n",
       "      <td>$3.9 Million</td>\n",
       "    </tr>\n",
       "    <tr>\n",
       "      <th>38</th>\n",
       "      <td>Bugatti Bolide</td>\n",
       "      <td>$4.5 Million</td>\n",
       "    </tr>\n",
       "    <tr>\n",
       "      <th>39</th>\n",
       "      <td>Bugatti Mistral</td>\n",
       "      <td>$4.7 Million</td>\n",
       "    </tr>\n",
       "    <tr>\n",
       "      <th>40</th>\n",
       "      <td>Pagani Huayra Imola</td>\n",
       "      <td>$5.0 Million</td>\n",
       "    </tr>\n",
       "    <tr>\n",
       "      <th>41</th>\n",
       "      <td>Bugatti Divo</td>\n",
       "      <td>$5.4 Million</td>\n",
       "    </tr>\n",
       "    <tr>\n",
       "      <th>42</th>\n",
       "      <td>SP Automotive Chaos</td>\n",
       "      <td>$5.8 Million</td>\n",
       "    </tr>\n",
       "    <tr>\n",
       "      <th>43</th>\n",
       "      <td>Pagani Codalunga</td>\n",
       "      <td>$6.4 Million</td>\n",
       "    </tr>\n",
       "    <tr>\n",
       "      <th>44</th>\n",
       "      <td>Mercedes-Maybach Exelero</td>\n",
       "      <td>$7.4 Million</td>\n",
       "    </tr>\n",
       "    <tr>\n",
       "      <th>45</th>\n",
       "      <td>Bugatti Centodieci</td>\n",
       "      <td>$8.0 Million</td>\n",
       "    </tr>\n",
       "    <tr>\n",
       "      <th>46</th>\n",
       "      <td>Bugatti Chiron Profilée</td>\n",
       "      <td>$9.0 Million</td>\n",
       "    </tr>\n",
       "    <tr>\n",
       "      <th>47</th>\n",
       "      <td>Rolls-Royce Sweptail</td>\n",
       "      <td>$10.8 Million</td>\n",
       "    </tr>\n",
       "    <tr>\n",
       "      <th>48</th>\n",
       "      <td>Bugatti La Voiture Noire</td>\n",
       "      <td>$12.8 Million</td>\n",
       "    </tr>\n",
       "    <tr>\n",
       "      <th>49</th>\n",
       "      <td>Rolls-Royce Boat Tail*</td>\n",
       "      <td>$13.4 Million</td>\n",
       "    </tr>\n",
       "  </tbody>\n",
       "</table>\n",
       "</div>"
      ],
      "text/plain": [
       "                        Top 50 cars top 50 cars price\n",
       "0                     De Tomaso P72      $1.3 Million\n",
       "1                 Ferrari LaFerrari      $1.4 Million\n",
       "2                     Pagani Huayra      $1.4 Million\n",
       "3                      McLaren Elva                  \n",
       "4                       Czinger 21C      $1.7 Million\n",
       "5                     Ferrari Monza      $1.7 Million\n",
       "6                Gordon Murray T.33      $1.7 Million\n",
       "7                 Koenigsegg Gemera      $1.7 Million\n",
       "8                       Zenvo TSR-S      $1.7 Million\n",
       "9                Hennessey Venom F5      $1.7 Million\n",
       "10                  Bentley Bacalar      $1.8 Million\n",
       "11    Hispano Suiza Carmen Boulogne      $1.9 Million\n",
       "12           Bentley Mulliner Batur      $1.9 Million\n",
       "13                     Deus Vayanne      $2.0 Million\n",
       "14                      SSC Tuatara      $2.0 Million\n",
       "15                      Lotus Evija     $2.0 Million*\n",
       "16              Aston Martin Vulcan      $2.1 Million\n",
       "17                       Delage D12      $2.3 Million\n",
       "18                McLaren Speedtail      $2.3 Million\n",
       "19                     Rimac Nevera      $2.3 Million\n",
       "20                    Pagani Utopia      $2.4 Million\n",
       "21             Pininfarina Battista      $2.5 Million\n",
       "22                Ferrari FXX K Evo      $2.5 Million\n",
       "23               Gordon Murray T.50      $2.6 Million\n",
       "24             Lamborghini Countach      $2.6 Million\n",
       "25         Mercedes-AMG Project One      $2.6 Million\n",
       "26              Aston Martin Victor      $2.7 Million\n",
       "27      Hennessey Venom F5 Roadster      $3.0 Million\n",
       "28                 Koenigsegg Jesko      $3.0 Million\n",
       "29            Aston Martin Valkyrie      $3.0 Million\n",
       "30        W Motors Lykan Hypersport      $3.2 Million\n",
       "31                    McLaren Solus      $3.4 Million\n",
       "32        Pagani Huayra Roadster BC      $3.5 Million\n",
       "33         Bugatti Chiron Pur Sport      $3.5 Million\n",
       "34                 Lamborghini Sian      $3.6 Million\n",
       "35                 Koenigsegg CC850      $3.6 million\n",
       "36  Bugatti Chiron Super Sport 300+      $3.7 Million\n",
       "37               Lamborghini Veneno      $3.9 Million\n",
       "38                   Bugatti Bolide      $4.5 Million\n",
       "39                  Bugatti Mistral      $4.7 Million\n",
       "40              Pagani Huayra Imola      $5.0 Million\n",
       "41                     Bugatti Divo      $5.4 Million\n",
       "42              SP Automotive Chaos      $5.8 Million\n",
       "43                 Pagani Codalunga      $6.4 Million\n",
       "44         Mercedes-Maybach Exelero      $7.4 Million\n",
       "45               Bugatti Centodieci      $8.0 Million\n",
       "46          Bugatti Chiron Profilée      $9.0 Million\n",
       "47             Rolls-Royce Sweptail     $10.8 Million\n",
       "48         Bugatti La Voiture Noire     $12.8 Million\n",
       "49           Rolls-Royce Boat Tail*     $13.4 Million"
      ]
     },
     "execution_count": 13,
     "metadata": {},
     "output_type": "execute_result"
    }
   ],
   "source": [
    "import pandas as pd\n",
    "df=pd.DataFrame({\"Top 50 cars\":car_name,\"top 50 cars price\":car_prices})\n",
    "df"
   ]
  },
  {
   "cell_type": "code",
   "execution_count": null,
   "id": "d9f90dc1",
   "metadata": {},
   "outputs": [],
   "source": []
  },
  {
   "cell_type": "code",
   "execution_count": null,
   "id": "c0617153",
   "metadata": {},
   "outputs": [],
   "source": []
  },
  {
   "cell_type": "code",
   "execution_count": null,
   "id": "90660daa",
   "metadata": {},
   "outputs": [],
   "source": []
  },
  {
   "cell_type": "code",
   "execution_count": null,
   "id": "f0d62ec3",
   "metadata": {},
   "outputs": [],
   "source": []
  },
  {
   "cell_type": "code",
   "execution_count": null,
   "id": "60d5e945",
   "metadata": {},
   "outputs": [],
   "source": []
  },
  {
   "cell_type": "code",
   "execution_count": null,
   "id": "a475e5d9",
   "metadata": {},
   "outputs": [],
   "source": []
  },
  {
   "cell_type": "code",
   "execution_count": null,
   "id": "e9c7e594",
   "metadata": {},
   "outputs": [],
   "source": []
  },
  {
   "cell_type": "code",
   "execution_count": null,
   "id": "686db77e",
   "metadata": {},
   "outputs": [],
   "source": []
  },
  {
   "cell_type": "code",
   "execution_count": null,
   "id": "508010d6",
   "metadata": {},
   "outputs": [],
   "source": []
  },
  {
   "cell_type": "code",
   "execution_count": null,
   "id": "aa801ddb",
   "metadata": {},
   "outputs": [],
   "source": []
  },
  {
   "cell_type": "code",
   "execution_count": null,
   "id": "3caa5cde",
   "metadata": {},
   "outputs": [],
   "source": []
  },
  {
   "cell_type": "code",
   "execution_count": null,
   "id": "59b97b18",
   "metadata": {},
   "outputs": [],
   "source": []
  },
  {
   "cell_type": "code",
   "execution_count": null,
   "id": "b0223da1",
   "metadata": {},
   "outputs": [],
   "source": []
  },
  {
   "cell_type": "code",
   "execution_count": null,
   "id": "9b85dea8",
   "metadata": {},
   "outputs": [],
   "source": []
  },
  {
   "cell_type": "code",
   "execution_count": null,
   "id": "5936f4d7",
   "metadata": {},
   "outputs": [],
   "source": []
  },
  {
   "cell_type": "code",
   "execution_count": null,
   "id": "29918f76",
   "metadata": {},
   "outputs": [],
   "source": []
  },
  {
   "cell_type": "code",
   "execution_count": null,
   "id": "ed7770d0",
   "metadata": {},
   "outputs": [],
   "source": []
  },
  {
   "cell_type": "code",
   "execution_count": null,
   "id": "084bee62",
   "metadata": {},
   "outputs": [],
   "source": []
  },
  {
   "cell_type": "code",
   "execution_count": null,
   "id": "8c4464ab",
   "metadata": {},
   "outputs": [],
   "source": []
  },
  {
   "cell_type": "code",
   "execution_count": null,
   "id": "26ff1383",
   "metadata": {},
   "outputs": [],
   "source": []
  },
  {
   "cell_type": "code",
   "execution_count": null,
   "id": "f3e330b3",
   "metadata": {},
   "outputs": [],
   "source": []
  },
  {
   "cell_type": "code",
   "execution_count": null,
   "id": "b1b24742",
   "metadata": {},
   "outputs": [],
   "source": []
  },
  {
   "cell_type": "code",
   "execution_count": null,
   "id": "9174aa4a",
   "metadata": {},
   "outputs": [],
   "source": []
  },
  {
   "cell_type": "code",
   "execution_count": null,
   "id": "41a441cf",
   "metadata": {},
   "outputs": [],
   "source": []
  },
  {
   "cell_type": "code",
   "execution_count": null,
   "id": "34e81e26",
   "metadata": {},
   "outputs": [],
   "source": []
  },
  {
   "cell_type": "code",
   "execution_count": null,
   "id": "a0055901",
   "metadata": {},
   "outputs": [],
   "source": []
  },
  {
   "cell_type": "code",
   "execution_count": null,
   "id": "7c740e1c",
   "metadata": {},
   "outputs": [],
   "source": []
  },
  {
   "cell_type": "code",
   "execution_count": null,
   "id": "08610f7a",
   "metadata": {},
   "outputs": [],
   "source": []
  },
  {
   "cell_type": "code",
   "execution_count": null,
   "id": "8a09617b",
   "metadata": {},
   "outputs": [],
   "source": []
  },
  {
   "cell_type": "code",
   "execution_count": null,
   "id": "f6941e03",
   "metadata": {},
   "outputs": [],
   "source": []
  },
  {
   "cell_type": "code",
   "execution_count": null,
   "id": "a3749706",
   "metadata": {},
   "outputs": [],
   "source": []
  }
 ],
 "metadata": {
  "kernelspec": {
   "display_name": "Python 3 (ipykernel)",
   "language": "python",
   "name": "python3"
  },
  "language_info": {
   "codemirror_mode": {
    "name": "ipython",
    "version": 3
   },
   "file_extension": ".py",
   "mimetype": "text/x-python",
   "name": "python",
   "nbconvert_exporter": "python",
   "pygments_lexer": "ipython3",
   "version": "3.9.13"
  }
 },
 "nbformat": 4,
 "nbformat_minor": 5
}
