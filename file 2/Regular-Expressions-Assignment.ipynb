{
 "cells": [
  {
   "cell_type": "code",
   "execution_count": 2,
   "id": "b54649ae",
   "metadata": {},
   "outputs": [],
   "source": [
    "import regex as re"
   ]
  },
  {
   "cell_type": "markdown",
   "id": "8cc45bd0",
   "metadata": {},
   "source": [
    "Question 1- Write a Python program to check that a string contains only a certain set of characters (in this case a-z, A-Z and 0-9)."
   ]
  },
  {
   "cell_type": "code",
   "execution_count": 2,
   "id": "0d467a54",
   "metadata": {},
   "outputs": [
    {
     "name": "stdout",
     "output_type": "stream",
     "text": [
      "Capital =  ['o', 'h', 'i', 't', 'h', 'a', 'r', 'm', 'a', 'h', 'a', 's', 'c', 'o', 'r', 'e', 'a', 'n', 'd', 'i', 'n', 'h', 'i', 's', 'c', 'r', 'i', 'c', 'k', 'e', 't', 'c', 'a', 'r', 'e', 'e', 'r']\n",
      "Small =  ['R', 'S', 'S', 'C', 'E', 'N', 'T', 'U', 'R', 'E', 'I', 'S', 'H', 'A', 'L', 'F', 'C', 'E', 'N', 'T', 'U', 'R', 'E', 'I', 'S']\n",
      "numbers =  ['4', '3', '9', '1']\n"
     ]
    }
   ],
   "source": [
    "string = \"Rohit Sharma has Score 43 CENTUREIS and 91 HALF CENTUREIS in his cricket career\"\n",
    "\n",
    "Capital = re.findall(r'[a-z]', string)\n",
    "Small = re.findall(r'[A-Z]', string)\n",
    "numbers = re.findall(r'[0-9]', string)\n",
    "\n",
    "print(\"Capital = \",Capital)\n",
    "print(\"Small = \",Small)\n",
    "print(\"numbers = \",numbers)\n"
   ]
  },
  {
   "cell_type": "markdown",
   "id": "f4acf971",
   "metadata": {},
   "source": [
    "Question 2- Create a function in python that matches a string that has an a followed by zero or more b's"
   ]
  },
  {
   "cell_type": "code",
   "execution_count": 37,
   "id": "ce1eaf7f",
   "metadata": {},
   "outputs": [
    {
     "name": "stdout",
     "output_type": "stream",
     "text": [
      "['', '', '', '', '', 'bb', '', '', '', '', 'bb', '', '', '', '', '', '']\n"
     ]
    }
   ],
   "source": [
    "string = \"aaaaabbccvvbbcdddd\"\n",
    "\n",
    "pattern = r'b*'\n",
    "matches = re.findall(pattern, string)\n",
    "\n",
    "print(matches)"
   ]
  },
  {
   "cell_type": "markdown",
   "id": "3556f12b",
   "metadata": {},
   "source": [
    "Question 3-  Create a function in python that matches a string that has an a followed by one or more b's"
   ]
  },
  {
   "cell_type": "code",
   "execution_count": 38,
   "id": "8b12ea18",
   "metadata": {},
   "outputs": [
    {
     "name": "stdout",
     "output_type": "stream",
     "text": [
      "['bb', 'bb']\n"
     ]
    }
   ],
   "source": [
    "string = \"abbcccbbdddd\"\n",
    "\n",
    "pattern = r'b+'\n",
    "matches = re.findall(pattern, string)\n",
    "\n",
    "print(matches)"
   ]
  },
  {
   "cell_type": "markdown",
   "id": "67d6dc17",
   "metadata": {},
   "source": [
    "Question 4- Create a function in Python and use RegEx that matches a string that has an a followed by zero or one 'b'."
   ]
  },
  {
   "cell_type": "code",
   "execution_count": 39,
   "id": "14a73e43",
   "metadata": {},
   "outputs": [
    {
     "name": "stdout",
     "output_type": "stream",
     "text": [
      "['', 'b', 'b', '', '', 'b', 'b', '', '', '', 'b', '', '', '']\n"
     ]
    }
   ],
   "source": [
    "string = \"abbccbbcddbdd\"\n",
    "\n",
    "pattern = r'b?'\n",
    "matches = re.findall(pattern, string)\n",
    "\n",
    "print(matches)"
   ]
  },
  {
   "cell_type": "markdown",
   "id": "87c1c0ef",
   "metadata": {},
   "source": [
    "Question 5- Write a Python program that matches a string that has an a followed by three 'b'."
   ]
  },
  {
   "cell_type": "code",
   "execution_count": 42,
   "id": "d1745e97",
   "metadata": {},
   "outputs": [
    {
     "name": "stdout",
     "output_type": "stream",
     "text": [
      "['bbb', 'bbb', 'bbb']\n"
     ]
    }
   ],
   "source": [
    "string = \"abbbccdbbberrrbbb\"\n",
    "\n",
    "pattern = r\"b..\"\n",
    "\n",
    "matches = re.findall(pattern,string)\n",
    "\n",
    "print(matches)"
   ]
  },
  {
   "cell_type": "markdown",
   "id": "de97a68c",
   "metadata": {},
   "source": [
    "Question 6- Write a regular expression in Python to split a string into uppercase letters.\n",
    "Sample text: “ImportanceOfRegularExpressionsInPython”\n"
   ]
  },
  {
   "cell_type": "code",
   "execution_count": 13,
   "id": "5c0f8972",
   "metadata": {},
   "outputs": [
    {
     "name": "stdout",
     "output_type": "stream",
     "text": [
      "['Importance', 'Of', 'Regular', 'Expressions', 'In', 'Python']\n"
     ]
    }
   ],
   "source": [
    "string = \"ImportanceOfRegularExpressionsInPython\"\n",
    "\n",
    "pattern = r'(?=[A-Z])'\n",
    "result = re.split(pattern, string)[1:]\n",
    "\n",
    "print(result)"
   ]
  },
  {
   "cell_type": "markdown",
   "id": "9f186755",
   "metadata": {},
   "source": [
    "Question 7- Write a Python program that matches a string that has an a followed by two to three 'b'."
   ]
  },
  {
   "cell_type": "code",
   "execution_count": 44,
   "id": "f0833339",
   "metadata": {},
   "outputs": [
    {
     "name": "stdout",
     "output_type": "stream",
     "text": [
      "['bb', 'bbb', 'bb', 'bbb']\n"
     ]
    }
   ],
   "source": [
    "string = \"aabdfe fbbdkogllse ubbbsidurn bbddsbbb\"\n",
    "\n",
    "pattern = r'b{2,3}'\n",
    "matches = re.findall(pattern, string)\n",
    "\n",
    "print(matches)"
   ]
  },
  {
   "cell_type": "markdown",
   "id": "38a27906",
   "metadata": {},
   "source": [
    "Question 8- Write a Python program to find sequences of lowercase letters joined with a underscore."
   ]
  },
  {
   "cell_type": "code",
   "execution_count": 46,
   "id": "9af5782a",
   "metadata": {},
   "outputs": [
    {
     "name": "stdout",
     "output_type": "stream",
     "text": [
      " Im_p_o_r_t_a_n_c_e_ Of_ Re_g_u_l_a_r_ Ex_p_r_e_s_s_i_o_n_s_ In_ Py_t_h_o_n_\n"
     ]
    }
   ],
   "source": [
    "string = \" Importance Of Regular Expressions In Python\"\n",
    "\n",
    "pattern = r'([a-z])'\n",
    "\n",
    "underscore = re.sub(pattern, r'\\1_', string)\n",
    "\n",
    "print(underscore)\n"
   ]
  },
  {
   "cell_type": "markdown",
   "id": "5ed946b1",
   "metadata": {},
   "source": [
    "Question 9- Write a Python program that matches a string that has an 'a' followed by anything, ending in 'b'."
   ]
  },
  {
   "cell_type": "code",
   "execution_count": 47,
   "id": "8be77c4c",
   "metadata": {},
   "outputs": [
    {
     "name": "stdout",
     "output_type": "stream",
     "text": [
      "['also found a comb and placed it in her b']\n"
     ]
    }
   ],
   "source": [
    "#string = \"abcoulb abc abb ad axb a123b\"\n",
    "string = \"She also found a comb and placed it in her bag.\"\n",
    "#pattern = r'\\ba\\w*b\\b'\n",
    "\n",
    "pattern = r'a.*b'\n",
    "\n",
    "start_end = re.findall(pattern, string)\n",
    "\n",
    "print(start_end)\n",
    "\n"
   ]
  },
  {
   "cell_type": "markdown",
   "id": "3c379d77",
   "metadata": {},
   "source": [
    "Question 10- Write a Python program that matches a word at the beginning of a string."
   ]
  },
  {
   "cell_type": "code",
   "execution_count": 48,
   "id": "eb0030fe",
   "metadata": {},
   "outputs": [
    {
     "data": {
      "text/plain": [
       "['Importance']"
      ]
     },
     "execution_count": 48,
     "metadata": {},
     "output_type": "execute_result"
    }
   ],
   "source": [
    "string = \"Importance Of Regular Expressions In Python\"\n",
    "\n",
    "pattern = \"^Importance\"\n",
    " \n",
    "beginning = re.findall(pattern,string)\n",
    "\n",
    "beginning"
   ]
  },
  {
   "cell_type": "markdown",
   "id": "21f2f87b",
   "metadata": {},
   "source": [
    "Question 11- Write a Python program to match a string that contains only upper and lowercase letters, numbers, and underscores."
   ]
  },
  {
   "cell_type": "code",
   "execution_count": 33,
   "id": "63094778",
   "metadata": {},
   "outputs": [
    {
     "data": {
      "text/plain": [
       "['L',\n",
       " 'e',\n",
       " 'o',\n",
       " 'M',\n",
       " 'e',\n",
       " 's',\n",
       " 's',\n",
       " 'i',\n",
       " 'h',\n",
       " 'a',\n",
       " 's',\n",
       " 'n',\n",
       " 'o',\n",
       " 'w',\n",
       " 'p',\n",
       " 'l',\n",
       " 'a',\n",
       " 'y',\n",
       " 'e',\n",
       " 'd',\n",
       " '1',\n",
       " '0',\n",
       " '2',\n",
       " '8',\n",
       " '_',\n",
       " '_',\n",
       " 'g',\n",
       " 'a',\n",
       " 'm',\n",
       " 'e',\n",
       " 's']"
      ]
     },
     "execution_count": 33,
     "metadata": {},
     "output_type": "execute_result"
    }
   ],
   "source": [
    "string = \"Leo Messi has now played 1,028 __ games\"\n",
    "\n",
    "pattern = '\\w'\n",
    "\n",
    "result = re.findall(pattern,string)\n",
    "\n",
    "result"
   ]
  },
  {
   "cell_type": "markdown",
   "id": "9c9777b9",
   "metadata": {},
   "source": [
    "Question 12- Write a Python program where a string will start with a specific number."
   ]
  },
  {
   "cell_type": "code",
   "execution_count": 34,
   "id": "51898b32",
   "metadata": {},
   "outputs": [
    {
     "data": {
      "text/plain": [
       "['12']"
      ]
     },
     "execution_count": 34,
     "metadata": {},
     "output_type": "execute_result"
    }
   ],
   "source": [
    "string = \"12 is a number\"\n",
    "\n",
    "pattern = \"^12\"\n",
    "\n",
    "result = re.findall(pattern,string)\n",
    "\n",
    "result"
   ]
  },
  {
   "cell_type": "markdown",
   "id": "e2614670",
   "metadata": {},
   "source": [
    "Question 13- Write a Python program to remove leading zeros from an IP address"
   ]
  },
  {
   "cell_type": "code",
   "execution_count": 59,
   "id": "df309d7d",
   "metadata": {},
   "outputs": [
    {
     "name": "stdout",
     "output_type": "stream",
     "text": [
      "192.168.1.1\n"
     ]
    }
   ],
   "source": [
    "ip_address = \"192.168.001.001\"\n",
    "\n",
    "pattern = r'\\b0+(\\d)'\n",
    "\n",
    "remove_zero = re.sub(pattern, r'\\1', ip_address)\n",
    "\n",
    "print(remove_zero)\n"
   ]
  },
  {
   "cell_type": "markdown",
   "id": "8ec2063d",
   "metadata": {},
   "source": [
    "Question 14- Write a regular expression in python to match a date string in the form of Month name followed by day number and year stored in a text file."
   ]
  },
  {
   "cell_type": "code",
   "execution_count": 169,
   "id": "7b6703fb",
   "metadata": {},
   "outputs": [
    {
     "name": "stdout",
     "output_type": "stream",
     "text": [
      "On August 15th 1947\n"
     ]
    }
   ],
   "source": [
    "data = \"On August 15th 1947 that India was declared independent from British colonialism, and the reins of control were handed over to the leaders of the Country.\"\n",
    "\n",
    "with open(\"data.txt\", \"w\") as file:\n",
    "    file.write(data)\n",
    "\n",
    "with open(\"data.txt\", \"r\") as file:\n",
    "    text = file.read()\n",
    "\n",
    "pattern = r\"On [A-Z][a-z]+ \\d{1,2}(?:st|nd|rd|th)? \\d{4}\"\n",
    "match = re.search(pattern, text)\n",
    "\n",
    "date = match.group()\n",
    "print(date)\n",
    "\n"
   ]
  },
  {
   "cell_type": "markdown",
   "id": "545c23fd",
   "metadata": {},
   "source": [
    "Question 15- Write a Python program to search some literals strings in a string. Go to the editor"
   ]
  },
  {
   "cell_type": "code",
   "execution_count": 36,
   "id": "f553ca6c",
   "metadata": {},
   "outputs": [
    {
     "name": "stdout",
     "output_type": "stream",
     "text": [
      "fox\n",
      "dog\n",
      "horse\n"
     ]
    }
   ],
   "source": [
    "text = \"The quick brown fox jumps over the lazy dog.\"\n",
    "\n",
    "search_words = ['fox', 'dog', 'horse']\n",
    "\n",
    "for word in search_words:\n",
    "    pattern = re.compile(re.escape(word))\n",
    "    re.search(pattern, text)\n",
    "    print(word)\n"
   ]
  },
  {
   "cell_type": "markdown",
   "id": "9f7d1bc3",
   "metadata": {},
   "source": [
    "Question 16- Write a Python program to search a literals string in a string and also find the location within the original string where the pattern occurs"
   ]
  },
  {
   "cell_type": "code",
   "execution_count": 186,
   "id": "b8bb718d",
   "metadata": {
    "scrolled": true
   },
   "outputs": [
    {
     "data": {
      "text/plain": [
       "<re.Match object; span=(16, 19), match='fox'>"
      ]
     },
     "execution_count": 186,
     "metadata": {},
     "output_type": "execute_result"
    }
   ],
   "source": [
    "text = 'The quick brown fox jumps over the lazy dog.'\n",
    "pattern = 'fox'\n",
    "\n",
    "matches = re.finditer(pattern, text)\n",
    "match\n",
    "    "
   ]
  },
  {
   "cell_type": "markdown",
   "id": "fd03070d",
   "metadata": {},
   "source": [
    "Question 17- Write a Python program to find the substrings within a string."
   ]
  },
  {
   "cell_type": "code",
   "execution_count": 53,
   "id": "b532cb4d",
   "metadata": {},
   "outputs": [
    {
     "name": "stdout",
     "output_type": "stream",
     "text": [
      "Python , PHP , C# \n"
     ]
    }
   ],
   "source": [
    "target = 'Python exercises, PHP exercises, C# exercises'\n",
    "sub = re.sub(r'exercises+',r'',target)\n",
    "print(sub)"
   ]
  },
  {
   "cell_type": "markdown",
   "id": "cbc3795d",
   "metadata": {},
   "source": [
    "Question 18- Write a Python program to find the occurrence and position of the substrings within a string."
   ]
  },
  {
   "cell_type": "code",
   "execution_count": 55,
   "id": "7c3a7d06",
   "metadata": {},
   "outputs": [
    {
     "name": "stdout",
     "output_type": "stream",
     "text": [
      "('Python , PHP , C# ', 3)\n"
     ]
    }
   ],
   "source": [
    "target = 'Python exercises, PHP exercises, C# exercises'\n",
    "sub = re.subn(r'exercises+',r'',target)\n",
    "print(sub)"
   ]
  },
  {
   "cell_type": "markdown",
   "id": "5d5e2c56",
   "metadata": {},
   "source": [
    "Question 19- Write a Python program to convert a date of yyyy-mm-dd format to dd-mm-yyyy format."
   ]
  },
  {
   "cell_type": "code",
   "execution_count": 61,
   "id": "7734959f",
   "metadata": {},
   "outputs": [
    {
     "name": "stdout",
     "output_type": "stream",
     "text": [
      "31-07-2022\n"
     ]
    }
   ],
   "source": [
    "date = \"2022-07-31\"\n",
    "\n",
    "pattern = r'(\\d{4})-(\\d{2})-(\\d{2})'\n",
    "new_date = re.sub(pattern, r'\\3-\\2-\\1', date)\n",
    "\n",
    "print(new_date)\n"
   ]
  },
  {
   "cell_type": "markdown",
   "id": "658eea3e",
   "metadata": {},
   "source": [
    "Question 20- Write a Python program to find all words starting with 'a' or 'e' in a given string."
   ]
  },
  {
   "cell_type": "code",
   "execution_count": 62,
   "id": "dbf9a93c",
   "metadata": {},
   "outputs": [
    {
     "name": "stdout",
     "output_type": "stream",
     "text": [
      "['apple', 'and', 'an', 'elephant', 'enjoy', 'eating']\n"
     ]
    }
   ],
   "source": [
    "text = \"An apple and an elephant enjoy eating bananas.\"\n",
    "\n",
    "pattern = r'\\b[ae]\\w+\\b'\n",
    "\n",
    "words = re.findall(pattern, text)\n",
    "\n",
    "print(words)\n"
   ]
  },
  {
   "cell_type": "markdown",
   "id": "0ee9fbc0",
   "metadata": {},
   "source": [
    "Question 21- Write a Python program to separate and print the numbers and their position of a given string."
   ]
  },
  {
   "cell_type": "code",
   "execution_count": 73,
   "id": "67eec24b",
   "metadata": {},
   "outputs": [
    {
     "name": "stdout",
     "output_type": "stream",
     "text": [
      "numbers: 10\n",
      "position: 14\n",
      "numbers: 25\n",
      "position: 37\n"
     ]
    }
   ],
   "source": [
    "text = \"The price is $10 and the quantity is 25.\"\n",
    "\n",
    "for m in re.finditer(\"\\d+\", text):\n",
    "    print(\"numbers:\", m.group(0))\n",
    "    print(\"position:\", m.start())\n"
   ]
  },
  {
   "cell_type": "markdown",
   "id": "71a80b35",
   "metadata": {},
   "source": [
    "Question 22- Write a regular expression in python program to extract maximum numeric value from a string"
   ]
  },
  {
   "cell_type": "code",
   "execution_count": 82,
   "id": "85f06019",
   "metadata": {},
   "outputs": [
    {
     "name": "stdout",
     "output_type": "stream",
     "text": [
      "Max_value: 25\n"
     ]
    }
   ],
   "source": [
    "string=\"The price is 10 and the quantity is 25.\"\n",
    "number = re.findall('\\d+', string)\n",
    "number = map(int, number)\n",
    "print(\"Max_value:\",max(number))\n"
   ]
  },
  {
   "cell_type": "markdown",
   "id": "80d115c8",
   "metadata": {},
   "source": [
    "Question 23- Write a Regex in Python to put spaces between words starting with capital letters"
   ]
  },
  {
   "cell_type": "code",
   "execution_count": 96,
   "id": "cf4d3c49",
   "metadata": {},
   "outputs": [
    {
     "name": "stdout",
     "output_type": "stream",
     "text": [
      " I mportance  O f  R egular  E xpressions  I n  P ython\n"
     ]
    }
   ],
   "source": [
    "string = \"Importance Of Regular Expressions In Python\"\n",
    "\n",
    "pattern = r'([A-Z])'\n",
    "\n",
    "result = re.sub(pattern, r' \\1 ', string)\n",
    "\n",
    "print(result)"
   ]
  },
  {
   "cell_type": "markdown",
   "id": "a64958f2",
   "metadata": {},
   "source": [
    "Question 24- Python regex to find sequences of one upper case letter followed by lower case letters"
   ]
  },
  {
   "cell_type": "code",
   "execution_count": 111,
   "id": "ee90df51",
   "metadata": {},
   "outputs": [
    {
     "name": "stdout",
     "output_type": "stream",
     "text": [
      "Importance\n",
      "Of\n",
      "In\n",
      "Python\n"
     ]
    }
   ],
   "source": [
    "text = \"Importance Of regular expressions In Python\"\n",
    "\n",
    "matches = re.findall(r\"[A-Z][a-z]+\", text)\n",
    "\n",
    "for match in matches:\n",
    "    print(match)\n"
   ]
  },
  {
   "cell_type": "markdown",
   "id": "2d43ddb0",
   "metadata": {},
   "source": [
    "Question 25- Write a Python program to remove duplicate words from Sentence using Regular Expression"
   ]
  },
  {
   "cell_type": "code",
   "execution_count": 128,
   "id": "bc981ab7",
   "metadata": {},
   "outputs": [
    {
     "name": "stdout",
     "output_type": "stream",
     "text": [
      "The cat jumped over the wall\n"
     ]
    }
   ],
   "source": [
    "string = \"The cat cat jumped over the wall\"\n",
    "\n",
    "dupli = r'\\b(\\w+)(\\W+\\1\\b)+'\n",
    "\n",
    "c = re.sub(dupli, r'\\1',string)\n",
    "print(c)"
   ]
  },
  {
   "cell_type": "markdown",
   "id": "4bbb287b",
   "metadata": {},
   "source": [
    "Question 26-  Write a python program using RegEx to accept string ending with alphanumeric character."
   ]
  },
  {
   "cell_type": "code",
   "execution_count": 150,
   "id": "1b07794e",
   "metadata": {},
   "outputs": [
    {
     "name": "stdout",
     "output_type": "stream",
     "text": [
      "['Dog123']\n"
     ]
    }
   ],
   "source": [
    "string = \"The quick brown fox jumps over the lazy Dog123\"\n",
    "\n",
    "pattern = r\"\\b\\w+$\"\n",
    "\n",
    "alphanumeric = re.findall(pattern, string)\n",
    "\n",
    "print(alphanumeric)\n",
    "\n"
   ]
  },
  {
   "cell_type": "markdown",
   "id": "83b2b773",
   "metadata": {},
   "source": [
    "Question 27-Write a python program using RegEx to extract the hashtags."
   ]
  },
  {
   "cell_type": "code",
   "execution_count": 149,
   "id": "704c8ef2",
   "metadata": {},
   "outputs": [
    {
     "name": "stdout",
     "output_type": "stream",
     "text": [
      "['#Doltiwal', '#xyzabc', '#Demonetization']\n"
     ]
    }
   ],
   "source": [
    "import re\n",
    "\n",
    "text = \"\"\"RT @kapil_kausik: #Doltiwal I mean #xyzabc is \"hurt\" by #Demonetization as the same has rendered USELESS <ed><U+00A0><U+00BD><ed><U+00B1><U+0089> \"acquired funds\" No wo\"\"\"\n",
    "hashtags = re.findall(r\"#\\w+\", text)\n",
    "\n",
    "print(hashtags)\n"
   ]
  },
  {
   "cell_type": "markdown",
   "id": "ee4e0b2d",
   "metadata": {},
   "source": [
    "Question 28- Write a python program using RegEx to remove <U+..> like symbols"
   ]
  },
  {
   "cell_type": "code",
   "execution_count": 153,
   "id": "566fe080",
   "metadata": {},
   "outputs": [
    {
     "name": "stdout",
     "output_type": "stream",
     "text": [
      "@Jags123456 Bharat band on 28??<ed><ed>Those who  are protesting #demonetization  are all different party leaders\n"
     ]
    }
   ],
   "source": [
    "text =\"@Jags123456 Bharat band on 28??<ed><U+00A0><U+00BD><ed><U+00B8><U+0082>Those who  are protesting #demonetization  are all different party leaders\"\n",
    "\n",
    "remove = re.sub(r\"<U\\+\\w+>\", \"\", text)\n",
    "\n",
    "print(remove)\n"
   ]
  },
  {
   "cell_type": "markdown",
   "id": "d6f3a092",
   "metadata": {},
   "source": [
    "Question 29- Write a python program to extract dates from the text stored in the text file."
   ]
  },
  {
   "cell_type": "code",
   "execution_count": 162,
   "id": "94ff0555",
   "metadata": {},
   "outputs": [
    {
     "name": "stdout",
     "output_type": "stream",
     "text": [
      "12-09-1992\n",
      "15-12-1999\n"
     ]
    }
   ],
   "source": [
    "datas = \"Ron was born on 12-09-1992 and he was admitted to school 15-12-1999\"\n",
    "\n",
    "with open(\"datas.txt\",'w') as file:\n",
    "    \n",
    "    file.write(datas)\n",
    "\n",
    "with open(\"datas.txt\", \"r\") as file:\n",
    "    text = file.read()\n",
    "\n",
    "dates = re.findall(r\"\\d{2}-\\d{2}-\\d{4}\", text)\n",
    "\n",
    "for date in dates:\n",
    "    print(date)\n",
    "    "
   ]
  },
  {
   "cell_type": "markdown",
   "id": "eb8c8ecf",
   "metadata": {},
   "source": [
    "Question 30- Write a Python program to replace all occurrences of a space, comma, or dot with a colon."
   ]
  },
  {
   "cell_type": "code",
   "execution_count": 155,
   "id": "e23ebf50",
   "metadata": {},
   "outputs": [
    {
     "name": "stdout",
     "output_type": "stream",
     "text": [
      "Python:Exercises::PHP:exercises:\n"
     ]
    }
   ],
   "source": [
    "text = 'Python Exercises, PHP exercises.'\n",
    "\n",
    "replace = re.sub(r'[ ,.]', ':', text)\n",
    "\n",
    "print(replace)\n"
   ]
  }
 ],
 "metadata": {
  "kernelspec": {
   "display_name": "Python 3 (ipykernel)",
   "language": "python",
   "name": "python3"
  },
  "language_info": {
   "codemirror_mode": {
    "name": "ipython",
    "version": 3
   },
   "file_extension": ".py",
   "mimetype": "text/x-python",
   "name": "python",
   "nbconvert_exporter": "python",
   "pygments_lexer": "ipython3",
   "version": "3.9.13"
  }
 },
 "nbformat": 4,
 "nbformat_minor": 5
}
